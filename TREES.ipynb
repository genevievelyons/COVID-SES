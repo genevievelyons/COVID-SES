{
 "cells": [
  {
   "cell_type": "code",
   "execution_count": 1,
   "metadata": {},
   "outputs": [],
   "source": [
    "#Packages\n",
    "%matplotlib inline\n",
    "import pandas as pd\n",
    "import numpy as np\n",
    "import random\n",
    "\n",
    "import matplotlib.pyplot as plt\n",
    "import seaborn as sns\n",
    "\n",
    "from sklearn import preprocessing\n",
    "from sklearn.decomposition import PCA\n",
    "from sklearn.cluster import KMeans\n",
    "from sklearn.mixture import GaussianMixture\n",
    "\n",
    "import nltk\n",
    "from sklearn.tree import DecisionTreeRegressor, plot_tree\n",
    "from sklearn.ensemble import RandomForestRegressor\n",
    "from sklearn.feature_extraction.text import CountVectorizer, TfidfTransformer\n",
    "from sklearn.cluster import KMeans\n",
    "from sklearn.preprocessing import normalize\n",
    "from sklearn.datasets import load_iris, load_boston, make_regression, make_blobs\n",
    "from sklearn.ensemble import RandomForestClassifier"
   ]
  },
  {
   "cell_type": "markdown",
   "metadata": {},
   "source": [
    "## Load and Manipulate the Data"
   ]
  },
  {
   "cell_type": "code",
   "execution_count": 54,
   "metadata": {},
   "outputs": [],
   "source": [
    "#Load the census data\n",
    "census_dat = pd.read_csv('./data/Census_Data_Cleaned.csv', dtype = 'str')\n",
    "\n",
    "#Load the hospital beds data\n",
    "beds_dat = pd.read_csv('./data/hospital_beds_data.csv', dtype = 'str')\n",
    "\n",
    "#Load the cases data\n",
    "cases_nyc = pd.read_csv('./zcta-history/2020-04-07.csv', dtype = 'str')"
   ]
  },
  {
   "cell_type": "code",
   "execution_count": 55,
   "metadata": {},
   "outputs": [],
   "source": [
    "#Join all the values together\n",
    "data = cases_nyc.merge(census_dat, how = 'left', left_on = 'MODZCTA', right_on = 'zip_code_tabulation_area')\n",
    "data = data.merge(beds_dat, how = 'left', left_on = 'MODZCTA', right_on = 'zip')\n",
    "\n",
    "data[\"beds\"] = data[\"beds\"].fillna(0)"
   ]
  },
  {
   "cell_type": "code",
   "execution_count": 56,
   "metadata": {},
   "outputs": [],
   "source": [
    "#Remove the first record (no zip)\n",
    "data = data[1:]\n",
    "\n",
    "#Remove the zip code columns\n",
    "data = data.loc[:, data.columns != 'zip_code_tabulation_area']\n",
    "data = data.loc[:, data.columns != 'zip']"
   ]
  },
  {
   "cell_type": "code",
   "execution_count": 57,
   "metadata": {},
   "outputs": [],
   "source": [
    "#Cast the rest of the columns as float\n",
    "for col in data.columns:\n",
    "    if col == \"MODZCTA\":\n",
    "        continue \n",
    "    else:\n",
    "        data.loc[:,col] = data.loc[:,col].astype(float)"
   ]
  },
  {
   "cell_type": "code",
   "execution_count": 58,
   "metadata": {},
   "outputs": [
    {
     "data": {
      "text/html": [
       "<div>\n",
       "<style scoped>\n",
       "    .dataframe tbody tr th:only-of-type {\n",
       "        vertical-align: middle;\n",
       "    }\n",
       "\n",
       "    .dataframe tbody tr th {\n",
       "        vertical-align: top;\n",
       "    }\n",
       "\n",
       "    .dataframe thead th {\n",
       "        text-align: right;\n",
       "    }\n",
       "</style>\n",
       "<table border=\"1\" class=\"dataframe\">\n",
       "  <thead>\n",
       "    <tr style=\"text-align: right;\">\n",
       "      <th></th>\n",
       "      <th>MODZCTA</th>\n",
       "      <th>Positive</th>\n",
       "      <th>Total</th>\n",
       "      <th>zcta_cum.perc_pos</th>\n",
       "      <th>median_house_income</th>\n",
       "      <th>housing_units</th>\n",
       "      <th>pop_total</th>\n",
       "      <th>med_age</th>\n",
       "      <th>pop_perc_white</th>\n",
       "      <th>pop_perc_black</th>\n",
       "      <th>...</th>\n",
       "      <th>perc_transportation_warehousing</th>\n",
       "      <th>perc_utilites</th>\n",
       "      <th>perc_information</th>\n",
       "      <th>perc_finance</th>\n",
       "      <th>perc_scientific</th>\n",
       "      <th>perc_education_healthcare</th>\n",
       "      <th>perc_arts_entertainment</th>\n",
       "      <th>perc_otherservices</th>\n",
       "      <th>perc_publicadministration</th>\n",
       "      <th>beds</th>\n",
       "    </tr>\n",
       "  </thead>\n",
       "  <tbody>\n",
       "    <tr>\n",
       "      <th>1</th>\n",
       "      <td>10001</td>\n",
       "      <td>170.0</td>\n",
       "      <td>364.0</td>\n",
       "      <td>46.70</td>\n",
       "      <td>86801.0</td>\n",
       "      <td>13305.0</td>\n",
       "      <td>23537.0</td>\n",
       "      <td>35.6</td>\n",
       "      <td>0.602456</td>\n",
       "      <td>0.121893</td>\n",
       "      <td>...</td>\n",
       "      <td>0.060729</td>\n",
       "      <td>0.005398</td>\n",
       "      <td>0.018893</td>\n",
       "      <td>0.020243</td>\n",
       "      <td>0.037787</td>\n",
       "      <td>0.191633</td>\n",
       "      <td>0.017544</td>\n",
       "      <td>0.018893</td>\n",
       "      <td>0.045884</td>\n",
       "      <td>0.0</td>\n",
       "    </tr>\n",
       "    <tr>\n",
       "      <th>2</th>\n",
       "      <td>10002</td>\n",
       "      <td>405.0</td>\n",
       "      <td>792.0</td>\n",
       "      <td>51.14</td>\n",
       "      <td>33726.0</td>\n",
       "      <td>35691.0</td>\n",
       "      <td>80736.0</td>\n",
       "      <td>40.8</td>\n",
       "      <td>0.295605</td>\n",
       "      <td>0.086108</td>\n",
       "      <td>...</td>\n",
       "      <td>0.000000</td>\n",
       "      <td>0.000000</td>\n",
       "      <td>0.000000</td>\n",
       "      <td>0.000000</td>\n",
       "      <td>0.000000</td>\n",
       "      <td>0.333333</td>\n",
       "      <td>0.000000</td>\n",
       "      <td>0.000000</td>\n",
       "      <td>0.000000</td>\n",
       "      <td>0.0</td>\n",
       "    </tr>\n",
       "    <tr>\n",
       "      <th>3</th>\n",
       "      <td>10003</td>\n",
       "      <td>230.0</td>\n",
       "      <td>543.0</td>\n",
       "      <td>42.36</td>\n",
       "      <td>98151.0</td>\n",
       "      <td>31575.0</td>\n",
       "      <td>57112.0</td>\n",
       "      <td>32.1</td>\n",
       "      <td>0.776352</td>\n",
       "      <td>0.043599</td>\n",
       "      <td>...</td>\n",
       "      <td>0.050100</td>\n",
       "      <td>0.008016</td>\n",
       "      <td>0.022044</td>\n",
       "      <td>0.040080</td>\n",
       "      <td>0.088176</td>\n",
       "      <td>0.126253</td>\n",
       "      <td>0.036072</td>\n",
       "      <td>0.026052</td>\n",
       "      <td>0.052104</td>\n",
       "      <td>501.0</td>\n",
       "    </tr>\n",
       "    <tr>\n",
       "      <th>4</th>\n",
       "      <td>10004</td>\n",
       "      <td>20.0</td>\n",
       "      <td>45.0</td>\n",
       "      <td>44.44</td>\n",
       "      <td>119691.0</td>\n",
       "      <td>2082.0</td>\n",
       "      <td>3221.0</td>\n",
       "      <td>33.1</td>\n",
       "      <td>0.705992</td>\n",
       "      <td>0.007141</td>\n",
       "      <td>...</td>\n",
       "      <td>0.000000</td>\n",
       "      <td>0.000000</td>\n",
       "      <td>0.000000</td>\n",
       "      <td>0.000000</td>\n",
       "      <td>0.312500</td>\n",
       "      <td>0.000000</td>\n",
       "      <td>0.000000</td>\n",
       "      <td>0.000000</td>\n",
       "      <td>0.000000</td>\n",
       "      <td>0.0</td>\n",
       "    </tr>\n",
       "    <tr>\n",
       "      <th>5</th>\n",
       "      <td>10005</td>\n",
       "      <td>32.0</td>\n",
       "      <td>103.0</td>\n",
       "      <td>31.07</td>\n",
       "      <td>124194.0</td>\n",
       "      <td>5254.0</td>\n",
       "      <td>8131.0</td>\n",
       "      <td>29.4</td>\n",
       "      <td>0.753413</td>\n",
       "      <td>0.029517</td>\n",
       "      <td>...</td>\n",
       "      <td>0.050412</td>\n",
       "      <td>0.004583</td>\n",
       "      <td>0.018332</td>\n",
       "      <td>0.032997</td>\n",
       "      <td>0.035747</td>\n",
       "      <td>0.156737</td>\n",
       "      <td>0.096242</td>\n",
       "      <td>0.039413</td>\n",
       "      <td>0.048579</td>\n",
       "      <td>0.0</td>\n",
       "    </tr>\n",
       "  </tbody>\n",
       "</table>\n",
       "<p>5 rows × 87 columns</p>\n",
       "</div>"
      ],
      "text/plain": [
       "  MODZCTA  Positive  Total  zcta_cum.perc_pos  median_house_income  \\\n",
       "1   10001     170.0  364.0              46.70              86801.0   \n",
       "2   10002     405.0  792.0              51.14              33726.0   \n",
       "3   10003     230.0  543.0              42.36              98151.0   \n",
       "4   10004      20.0   45.0              44.44             119691.0   \n",
       "5   10005      32.0  103.0              31.07             124194.0   \n",
       "\n",
       "   housing_units  pop_total  med_age  pop_perc_white  pop_perc_black  ...  \\\n",
       "1        13305.0    23537.0     35.6        0.602456        0.121893  ...   \n",
       "2        35691.0    80736.0     40.8        0.295605        0.086108  ...   \n",
       "3        31575.0    57112.0     32.1        0.776352        0.043599  ...   \n",
       "4         2082.0     3221.0     33.1        0.705992        0.007141  ...   \n",
       "5         5254.0     8131.0     29.4        0.753413        0.029517  ...   \n",
       "\n",
       "   perc_transportation_warehousing  perc_utilites  perc_information  \\\n",
       "1                         0.060729       0.005398          0.018893   \n",
       "2                         0.000000       0.000000          0.000000   \n",
       "3                         0.050100       0.008016          0.022044   \n",
       "4                         0.000000       0.000000          0.000000   \n",
       "5                         0.050412       0.004583          0.018332   \n",
       "\n",
       "   perc_finance  perc_scientific  perc_education_healthcare  \\\n",
       "1      0.020243         0.037787                   0.191633   \n",
       "2      0.000000         0.000000                   0.333333   \n",
       "3      0.040080         0.088176                   0.126253   \n",
       "4      0.000000         0.312500                   0.000000   \n",
       "5      0.032997         0.035747                   0.156737   \n",
       "\n",
       "   perc_arts_entertainment  perc_otherservices  perc_publicadministration  \\\n",
       "1                 0.017544            0.018893                   0.045884   \n",
       "2                 0.000000            0.000000                   0.000000   \n",
       "3                 0.036072            0.026052                   0.052104   \n",
       "4                 0.000000            0.000000                   0.000000   \n",
       "5                 0.096242            0.039413                   0.048579   \n",
       "\n",
       "    beds  \n",
       "1    0.0  \n",
       "2    0.0  \n",
       "3  501.0  \n",
       "4    0.0  \n",
       "5    0.0  \n",
       "\n",
       "[5 rows x 87 columns]"
      ]
     },
     "execution_count": 58,
     "metadata": {},
     "output_type": "execute_result"
    }
   ],
   "source": [
    "data.head()"
   ]
  },
  {
   "cell_type": "code",
   "execution_count": 59,
   "metadata": {},
   "outputs": [
    {
     "data": {
      "text/plain": [
       "med_monthlyhousingcost               3\n",
       "med_numberrooms                      6\n",
       "med_yearbuilt                        7\n",
       "perc_hadbaby_pastyear_married        7\n",
       "perc_hadbaby_pastyear_unmarried      7\n",
       "med_value                           26\n",
       "avg_hoursworked                     33\n",
       "med_contractrent                    58\n",
       "avg_income_deficit_pastyear        129\n",
       "med_age_marriage                   177\n",
       "dtype: int64"
      ]
     },
     "execution_count": 59,
     "metadata": {},
     "output_type": "execute_result"
    }
   ],
   "source": [
    "#Null values\n",
    "data.isnull().sum(axis = 0).sort_values().tail(10)"
   ]
  },
  {
   "cell_type": "code",
   "execution_count": 60,
   "metadata": {},
   "outputs": [
    {
     "data": {
      "text/html": [
       "<div>\n",
       "<style scoped>\n",
       "    .dataframe tbody tr th:only-of-type {\n",
       "        vertical-align: middle;\n",
       "    }\n",
       "\n",
       "    .dataframe tbody tr th {\n",
       "        vertical-align: top;\n",
       "    }\n",
       "\n",
       "    .dataframe thead th {\n",
       "        text-align: right;\n",
       "    }\n",
       "</style>\n",
       "<table border=\"1\" class=\"dataframe\">\n",
       "  <thead>\n",
       "    <tr style=\"text-align: right;\">\n",
       "      <th></th>\n",
       "      <th>MODZCTA</th>\n",
       "      <th>Positive</th>\n",
       "      <th>Total</th>\n",
       "      <th>zcta_cum.perc_pos</th>\n",
       "      <th>median_house_income</th>\n",
       "      <th>housing_units</th>\n",
       "      <th>pop_total</th>\n",
       "      <th>med_age</th>\n",
       "      <th>pop_perc_white</th>\n",
       "      <th>pop_perc_black</th>\n",
       "      <th>...</th>\n",
       "      <th>perc_transportation_warehousing</th>\n",
       "      <th>perc_utilites</th>\n",
       "      <th>perc_information</th>\n",
       "      <th>perc_finance</th>\n",
       "      <th>perc_scientific</th>\n",
       "      <th>perc_education_healthcare</th>\n",
       "      <th>perc_arts_entertainment</th>\n",
       "      <th>perc_otherservices</th>\n",
       "      <th>perc_publicadministration</th>\n",
       "      <th>beds</th>\n",
       "    </tr>\n",
       "  </thead>\n",
       "  <tbody>\n",
       "    <tr>\n",
       "      <th>2</th>\n",
       "      <td>10002</td>\n",
       "      <td>405.0</td>\n",
       "      <td>792.0</td>\n",
       "      <td>51.14</td>\n",
       "      <td>33726.0</td>\n",
       "      <td>35691.0</td>\n",
       "      <td>80736.0</td>\n",
       "      <td>40.8</td>\n",
       "      <td>0.295605</td>\n",
       "      <td>0.086108</td>\n",
       "      <td>...</td>\n",
       "      <td>0.0</td>\n",
       "      <td>0.0</td>\n",
       "      <td>0.0</td>\n",
       "      <td>0.0</td>\n",
       "      <td>0.0</td>\n",
       "      <td>0.333333</td>\n",
       "      <td>0.0</td>\n",
       "      <td>0.0</td>\n",
       "      <td>0.0</td>\n",
       "      <td>0.0</td>\n",
       "    </tr>\n",
       "    <tr>\n",
       "      <th>148</th>\n",
       "      <td>11377</td>\n",
       "      <td>736.0</td>\n",
       "      <td>1141.0</td>\n",
       "      <td>64.50</td>\n",
       "      <td>50436.0</td>\n",
       "      <td>33840.0</td>\n",
       "      <td>90615.0</td>\n",
       "      <td>36.7</td>\n",
       "      <td>0.478971</td>\n",
       "      <td>0.026673</td>\n",
       "      <td>...</td>\n",
       "      <td>NaN</td>\n",
       "      <td>NaN</td>\n",
       "      <td>NaN</td>\n",
       "      <td>NaN</td>\n",
       "      <td>NaN</td>\n",
       "      <td>NaN</td>\n",
       "      <td>NaN</td>\n",
       "      <td>NaN</td>\n",
       "      <td>NaN</td>\n",
       "      <td>0.0</td>\n",
       "    </tr>\n",
       "    <tr>\n",
       "      <th>167</th>\n",
       "      <td>11428</td>\n",
       "      <td>241.0</td>\n",
       "      <td>355.0</td>\n",
       "      <td>67.89</td>\n",
       "      <td>67151.0</td>\n",
       "      <td>5929.0</td>\n",
       "      <td>19744.0</td>\n",
       "      <td>40.2</td>\n",
       "      <td>0.222194</td>\n",
       "      <td>0.184410</td>\n",
       "      <td>...</td>\n",
       "      <td>NaN</td>\n",
       "      <td>NaN</td>\n",
       "      <td>NaN</td>\n",
       "      <td>NaN</td>\n",
       "      <td>NaN</td>\n",
       "      <td>NaN</td>\n",
       "      <td>NaN</td>\n",
       "      <td>NaN</td>\n",
       "      <td>NaN</td>\n",
       "      <td>0.0</td>\n",
       "    </tr>\n",
       "  </tbody>\n",
       "</table>\n",
       "<p>3 rows × 87 columns</p>\n",
       "</div>"
      ],
      "text/plain": [
       "    MODZCTA  Positive   Total  zcta_cum.perc_pos  median_house_income  \\\n",
       "2     10002     405.0   792.0              51.14              33726.0   \n",
       "148   11377     736.0  1141.0              64.50              50436.0   \n",
       "167   11428     241.0   355.0              67.89              67151.0   \n",
       "\n",
       "     housing_units  pop_total  med_age  pop_perc_white  pop_perc_black  ...  \\\n",
       "2          35691.0    80736.0     40.8        0.295605        0.086108  ...   \n",
       "148        33840.0    90615.0     36.7        0.478971        0.026673  ...   \n",
       "167         5929.0    19744.0     40.2        0.222194        0.184410  ...   \n",
       "\n",
       "     perc_transportation_warehousing  perc_utilites  perc_information  \\\n",
       "2                                0.0            0.0               0.0   \n",
       "148                              NaN            NaN               NaN   \n",
       "167                              NaN            NaN               NaN   \n",
       "\n",
       "     perc_finance  perc_scientific  perc_education_healthcare  \\\n",
       "2             0.0              0.0                   0.333333   \n",
       "148           NaN              NaN                        NaN   \n",
       "167           NaN              NaN                        NaN   \n",
       "\n",
       "     perc_arts_entertainment  perc_otherservices  perc_publicadministration  \\\n",
       "2                        0.0                 0.0                        0.0   \n",
       "148                      NaN                 NaN                        NaN   \n",
       "167                      NaN                 NaN                        NaN   \n",
       "\n",
       "     beds  \n",
       "2     0.0  \n",
       "148   0.0  \n",
       "167   0.0  \n",
       "\n",
       "[3 rows x 87 columns]"
      ]
     },
     "execution_count": 60,
     "metadata": {},
     "output_type": "execute_result"
    }
   ],
   "source": [
    "data[data.med_monthlyhousingcost.isnull()]"
   ]
  },
  {
   "cell_type": "code",
   "execution_count": 61,
   "metadata": {},
   "outputs": [],
   "source": [
    "#Exclude columns with > 10 nulls\n",
    "data = data.drop(['med_value','avg_hoursworked','med_contractrent',\n",
    "                  'avg_income_deficit_pastyear','med_age_marriage'], axis = 1)"
   ]
  },
  {
   "cell_type": "code",
   "execution_count": 62,
   "metadata": {},
   "outputs": [],
   "source": [
    "#Impute values for columsn with < 10 nulls\n",
    "#data[\"beds\"] = data[\"beds\"].fillna(0)\n",
    "for col in data.columns:\n",
    "    data[col] = data[col].fillna(data[col].mean())"
   ]
  },
  {
   "cell_type": "code",
   "execution_count": 63,
   "metadata": {},
   "outputs": [
    {
     "data": {
      "text/plain": [
       "perc_transport_to_work_workathome    0\n",
       "perc_transport_to_work_taxi          0\n",
       "perc_transport_to_work_walk          0\n",
       "perc_transport_to_work_public        0\n",
       "beds                                 0\n",
       "dtype: int64"
      ]
     },
     "execution_count": 63,
     "metadata": {},
     "output_type": "execute_result"
    }
   ],
   "source": [
    "#Check we've removed them all:\n",
    "data.isnull().sum(axis = 0).sort_values().tail() #0. good."
   ]
  },
  {
   "cell_type": "code",
   "execution_count": 64,
   "metadata": {},
   "outputs": [],
   "source": [
    "#Percent Columns\n",
    "cols = [col for col in data.columns if 'perc' in col]\n",
    "\n",
    "for col in cols:\n",
    "    data.loc[data[col] > 1, col] = 1"
   ]
  },
  {
   "cell_type": "code",
   "execution_count": 65,
   "metadata": {},
   "outputs": [],
   "source": [
    "cases_per_10k = (data.Positive / data.pop_total) * 10000"
   ]
  },
  {
   "cell_type": "code",
   "execution_count": 81,
   "metadata": {},
   "outputs": [
    {
     "data": {
      "image/png": "[encoded data removed]",
      "text/plain": [
       "<Figure size 432x288 with 1 Axes>"
      ]
     },
     "metadata": {
      "needs_background": "light"
     },
     "output_type": "display_data"
    }
   ],
   "source": [
    "#Visualize the distribution of cases by zip\n",
    "sns.distplot(cases_per_10k, bins = 30)\n",
    "plt.title(\"Histogram of NYC Cases by Zip Code\")\n",
    "plt.xlabel(\"Cases per 10,000 Residents\")\n",
    "plt.axvline(75)\n",
    "plt.show();"
   ]
  },
  {
   "cell_type": "code",
   "execution_count": 82,
   "metadata": {},
   "outputs": [],
   "source": [
    "y_categorical = np.zeros(len(cases_per_10k))\n",
    "y_categorical = y_categorical.astype(str)\n",
    "\n",
    "#Low\n",
    "y_categorical[cases_per_10k <= 75] = \"Low\"\n",
    "#High\n",
    "y_categorical[cases_per_10k > 75] = \"High\""
   ]
  },
  {
   "cell_type": "code",
   "execution_count": 83,
   "metadata": {},
   "outputs": [],
   "source": [
    "data['y_categorical'] = y_categorical"
   ]
  },
  {
   "cell_type": "code",
   "execution_count": 84,
   "metadata": {},
   "outputs": [],
   "source": [
    "data['cases_per_10k'] = (data.Positive / data.pop_total) * 10000"
   ]
  },
  {
   "cell_type": "code",
   "execution_count": 85,
   "metadata": {},
   "outputs": [
    {
     "data": {
      "text/plain": [
       "y_categorical\n",
       "High    99\n",
       "Low     78\n",
       "dtype: int64"
      ]
     },
     "execution_count": 85,
     "metadata": {},
     "output_type": "execute_result"
    }
   ],
   "source": [
    "data.groupby('y_categorical').size()"
   ]
  },
  {
   "cell_type": "markdown",
   "metadata": {},
   "source": [
    "## Random Forest"
   ]
  },
  {
   "cell_type": "code",
   "execution_count": 86,
   "metadata": {},
   "outputs": [],
   "source": [
    "from sklearn.model_selection import train_test_split"
   ]
  },
  {
   "cell_type": "code",
   "execution_count": 123,
   "metadata": {},
   "outputs": [],
   "source": [
    "# X=data.loc[:,\"median_house_income\":\"beds\"]\n",
    "X=data.drop([\"MODZCTA\", \"Positive\", \"Total\",\"zcta_cum.perc_pos\",\"perc_leave_for_work_12ato459\",\n",
    "       'perc_leave_for_work_5to529', 'perc_leave_for_work_530to559',\n",
    "       'perc_leave_for_work_6to629', 'perc_leave_for_work_630to659',\n",
    "       'perc_leave_for_work_7to729', 'perc_leave_for_work_730to759',\n",
    "       'perc_leave_for_work_8to829', 'perc_leave_for_work_830to859',\n",
    "       'perc_leave_for_work_9to959', 'perc_leave_for_work_10to1059',\n",
    "       'perc_leave_for_work_11to1159', 'perc_leave_for_work_12pto359',\n",
    "       'perc_leave_for_work_4pto1159','y_categorical', 'cases_per_10k'], axis = 1) # Features\n",
    "y=data['y_categorical']  # Labels"
   ]
  },
  {
   "cell_type": "code",
   "execution_count": 125,
   "metadata": {},
   "outputs": [],
   "source": [
    "X = preprocessing.StandardScaler().fit_transform(X)"
   ]
  },
  {
   "cell_type": "code",
   "execution_count": 142,
   "metadata": {},
   "outputs": [
    {
     "data": {
      "image/png": "[encoded data removed]",
      "text/plain": [
       "<Figure size 432x288 with 1 Axes>"
      ]
     },
     "metadata": {
      "needs_background": "light"
     },
     "output_type": "display_data"
    }
   ],
   "source": [
    "Bs = [20,50,100,200,500,1000, 2000, 5000, 7000, 10000]\n",
    "OOBs = []\n",
    "for B in Bs:\n",
    "    fit_hpys = RandomForestClassifier(n_estimators=B, oob_score = True)\n",
    "    fit_hpys.fit(X,y)\n",
    "    OOBs.append(fit_hpys.oob_score_)\n",
    "\n",
    "plt.plot(list(map(str,Bs)),OOBs)\n",
    "plt.title(\"Out-of-bag score\")\n",
    "plt.show();\n"
   ]
  },
  {
   "cell_type": "code",
   "execution_count": 143,
   "metadata": {},
   "outputs": [],
   "source": [
    "#Create a Gaussian Classifier\n",
    "clf=RandomForestClassifier(n_estimators=50, oob_score = True)"
   ]
  },
  {
   "cell_type": "code",
   "execution_count": 144,
   "metadata": {},
   "outputs": [
    {
     "data": {
      "text/plain": [
       "RandomForestClassifier(bootstrap=True, ccp_alpha=0.0, class_weight=None,\n",
       "                       criterion='gini', max_depth=None, max_features='auto',\n",
       "                       max_leaf_nodes=None, max_samples=None,\n",
       "                       min_impurity_decrease=0.0, min_impurity_split=None,\n",
       "                       min_samples_leaf=1, min_samples_split=2,\n",
       "                       min_weight_fraction_leaf=0.0, n_estimators=50,\n",
       "                       n_jobs=None, oob_score=True, random_state=None,\n",
       "                       verbose=0, warm_start=False)"
      ]
     },
     "execution_count": 144,
     "metadata": {},
     "output_type": "execute_result"
    }
   ],
   "source": [
    "#Train the model using the training sets y_pred=clf.predict(X_test)\n",
    "clf.fit(X,y)"
   ]
  },
  {
   "cell_type": "code",
   "execution_count": 145,
   "metadata": {},
   "outputs": [
    {
     "data": {
      "text/plain": [
       "0.7909604519774012"
      ]
     },
     "execution_count": 145,
     "metadata": {},
     "output_type": "execute_result"
    }
   ],
   "source": [
    "clf.oob_score_"
   ]
  },
  {
   "cell_type": "code",
   "execution_count": 146,
   "metadata": {},
   "outputs": [],
   "source": [
    "cols=data.drop([\"MODZCTA\", \"Positive\", \"Total\",\"zcta_cum.perc_pos\",\"perc_leave_for_work_12ato459\",\n",
    "       'perc_leave_for_work_5to529', 'perc_leave_for_work_530to559',\n",
    "       'perc_leave_for_work_6to629', 'perc_leave_for_work_630to659',\n",
    "       'perc_leave_for_work_7to729', 'perc_leave_for_work_730to759',\n",
    "       'perc_leave_for_work_8to829', 'perc_leave_for_work_830to859',\n",
    "       'perc_leave_for_work_9to959', 'perc_leave_for_work_10to1059',\n",
    "       'perc_leave_for_work_11to1159', 'perc_leave_for_work_12pto359',\n",
    "       'perc_leave_for_work_4pto1159','y_categorical', 'cases_per_10k'], axis = 1).columns "
   ]
  },
  {
   "cell_type": "code",
   "execution_count": 147,
   "metadata": {},
   "outputs": [
    {
     "data": {
      "text/plain": [
       "perc_transport_to_work_workathome                                                           0.078126\n",
       "pop_perc_hs                                                                                 0.076309\n",
       "perc_transport_to_work_car                                                                  0.068911\n",
       "pop_perc_some_college                                                                       0.064135\n",
       "pop_perc_bachelor                                                                           0.062795\n",
       "perc_transport_to_work_bike                                                                 0.036733\n",
       "perc_transport_to_work_walk                                                                 0.033604\n",
       "avg_number_vehicles_count                                                                   0.029307\n",
       "pop_perc_masters_above                                                                      0.028282\n",
       "pop_perc_asian                                                                              0.028183\n",
       "perc_arts_entertainment                                                                     0.020468\n",
       "perc_transport_to_work_public                                                               0.019676\n",
       "perc_socialsecurity_income                                                                  0.018237\n",
       "perc_married_family                                                                         0.017209\n",
       "avg_travel_time_to_work_minutes                                                             0.016975\n",
       "pop_perc_black                                                                              0.016709\n",
       "perc_with_Supplemental_Security_Income_cash_public_assistance_income_or_Food_Stamps_SNAP    0.015154\n",
       "med_monthlyhousingcost                                                                      0.015079\n",
       "perc_occupancystatus                                                                        0.015057\n",
       "med_age                                                                                     0.014212\n",
       "dtype: float64"
      ]
     },
     "execution_count": 147,
     "metadata": {},
     "output_type": "execute_result"
    }
   ],
   "source": [
    "feature_imp = pd.Series(clf.feature_importances_,index=cols.tolist()).sort_values(ascending=False)\n",
    "feature_imp.head(20)"
   ]
  }
 ],
 "metadata": {
  "kernelspec": {
   "display_name": "Python 3",
   "language": "python",
   "name": "python3"
  },
  "language_info": {
   "codemirror_mode": {
    "name": "ipython",
    "version": 3
   },
   "file_extension": ".py",
   "mimetype": "text/x-python",
   "name": "python",
   "nbconvert_exporter": "python",
   "pygments_lexer": "ipython3",
   "version": "3.7.6"
  }
 },
 "nbformat": 4,
 "nbformat_minor": 4
}
