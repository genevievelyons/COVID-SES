{
 "cells": [
  {
   "cell_type": "code",
   "execution_count": 31,
   "metadata": {},
   "outputs": [],
   "source": [
    "#Packages\n",
    "%matplotlib inline\n",
    "import pandas as pd\n",
    "import numpy as np\n",
    "import matplotlib.pyplot as plt\n",
    "import os, glob\n",
    "\n",
    "from sklearn import preprocessing\n"
   ]
  },
  {
   "cell_type": "markdown",
   "metadata": {},
   "source": [
    "## Load and Manipulate Data"
   ]
  },
  {
   "cell_type": "markdown",
   "metadata": {},
   "source": [
    "### Load the data"
   ]
  },
  {
   "cell_type": "markdown",
   "metadata": {},
   "source": [
    "### Franklin's work starts below"
   ]
  },
  {
   "cell_type": "code",
   "execution_count": 32,
   "metadata": {},
   "outputs": [],
   "source": [
    "#Load the census data\n",
    "census_dat = pd.read_csv('./data/Census_Data_Cleaned.csv', dtype = 'str')\n",
    "\n",
    "#Load the hospital beds data\n",
    "beds_dat = pd.read_csv('./data/hospital_beds_data.csv', dtype = 'str')\n",
    "\n",
    "#Load the cases data\n",
    "cases_nyc = pd.read_csv('./zcta-history/2020-04-01.csv', dtype = 'str')\n",
    "\n",
    "cases_nyc_0407 = pd.read_csv('./zcta-history/2020-04-07.csv', dtype = 'str')\n",
    "cases_nyc_0414 = pd.read_csv('./zcta-history/2020-04-14.csv', dtype = 'str')\n",
    "cases_nyc_0421 = pd.read_csv('./zcta-history/2020-04-21.csv', dtype = 'str')\n",
    "cases_nyc_0428 = pd.read_csv('./zcta-history/2020-04-28.csv', dtype = 'str')"
   ]
  },
  {
   "cell_type": "code",
   "execution_count": 33,
   "metadata": {},
   "outputs": [],
   "source": [
    "cases_nyc = cases_nyc.rename(columns={\"Positive\": \"Positive_0401\", \"Total\": \"Total_0401\", \n",
    "                                      \"zcta_cum.perc_pos\":\"zcta_cum_perc_pos_0401\"})\n",
    "\n",
    "cases_nyc_0407 = cases_nyc_0407.rename(columns={\"Positive\": \"Positive_0407\", \"Total\": \"Total_0407\", \n",
    "                                      \"zcta_cum.perc_pos\":\"zcta_cum_perc_pos_0407\"})\n",
    "\n",
    "# cases_nyc_0414 = cases_nyc_0414.rename(columns={\"Positive\": \"Positive_0414\", \"Total\": \"Total_0414\", \n",
    "#                                      \"zcta_cum.perc_pos\":\"zcta_cum_perc_pos_0414\"})\n",
    "\n",
    "# cases_nyc_0421 = cases_nyc_0421.rename(columns={\"Positive\": \"Positive_0421\", \"Total\": \"Total_0421\", \n",
    "#                                      \"zcta_cum.perc_pos\":\"zcta_cum_perc_pos_0421\"})\n",
    "\n",
    "# cases_nyc_0428 = cases_nyc_0428.rename(columns={\"Positive\": \"Positive_0428\", \"Total\": \"Total_0428\", \n",
    "#                                      \"zcta_cum.perc_pos\":\"zcta_cum_perc_pos_0428\"})"
   ]
  },
  {
   "cell_type": "code",
   "execution_count": 34,
   "metadata": {},
   "outputs": [],
   "source": [
    "#Join together all the weekly cases data\n",
    "cases_nyc = cases_nyc.merge(cases_nyc_0407, how = 'left', left_on = 'MODZCTA', right_on = 'MODZCTA')\n",
    "# cases_nyc = cases_nyc.merge(cases_nyc_0414, how = 'left', left_on = 'MODZCTA', right_on = 'MODZCTA')\n",
    "# cases_nyc = cases_nyc.merge(cases_nyc_0421, how = 'left', left_on = 'MODZCTA', right_on = 'MODZCTA')\n",
    "# cases_nyc = cases_nyc.merge(cases_nyc_0428, how = 'left', left_on = 'MODZCTA', right_on = 'MODZCTA')"
   ]
  },
  {
   "cell_type": "code",
   "execution_count": 35,
   "metadata": {},
   "outputs": [],
   "source": [
    "#Join all the values together\n",
    "data = cases_nyc.merge(census_dat, how = 'left', left_on = 'MODZCTA', right_on = 'zip_code_tabulation_area')\n",
    "data = data.merge(beds_dat, how = 'left', left_on = 'MODZCTA', right_on = 'zip')\n",
    "\n",
    "data[\"beds\"] = data[\"beds\"].fillna(0)"
   ]
  },
  {
   "cell_type": "code",
   "execution_count": 36,
   "metadata": {},
   "outputs": [],
   "source": [
    "#Remove the first record (no zip)\n",
    "data = data[1:]\n",
    "\n",
    "#Remove the zip code columns\n",
    "data = data.loc[:, data.columns != 'zip_code_tabulation_area']\n",
    "data = data.loc[:, data.columns != 'zip']"
   ]
  },
  {
   "cell_type": "code",
   "execution_count": 37,
   "metadata": {},
   "outputs": [],
   "source": [
    "#Cast the rest of the columns as float\n",
    "for col in data.columns:\n",
    "    if col == \"MODZCTA\":\n",
    "        continue \n",
    "    else:\n",
    "        data.loc[:,col] = data.loc[:,col].astype(float)\n",
    "        \n",
    "#Divide by 100 for percents\n",
    "# data.loc[:,\"zcta_cum_perc_pos_0401\"] = data.loc[:,\"zcta_cum_perc_pos_0401\"]/100.0\n",
    "data.loc[:,\"zcta_cum_perc_pos_0407\"] = data.loc[:,\"zcta_cum_perc_pos_0407\"]/100.0\n",
    "# data.loc[:,\"zcta_cum_perc_pos_0414\"] = data.loc[:,\"zcta_cum_perc_pos_0414\"]/100.0\n",
    "# data.loc[:,\"zcta_cum_perc_pos_0421\"] = data.loc[:,\"zcta_cum_perc_pos_0421\"]/100.0\n",
    "# data.loc[:,\"zcta_cum_perc_pos_0428\"] = data.loc[:,\"zcta_cum_perc_pos_0428\"]/100.0\n"
   ]
  },
  {
   "cell_type": "code",
   "execution_count": 38,
   "metadata": {},
   "outputs": [],
   "source": [
    "#Exclude columns with > 10 nulls\n",
    "data = data.drop(['med_value','avg_hoursworked','med_contractrent',\n",
    "                  'avg_income_deficit_pastyear','med_age_marriage'], axis = 1)"
   ]
  },
  {
   "cell_type": "code",
   "execution_count": 39,
   "metadata": {},
   "outputs": [],
   "source": [
    "#Impute values for columsn with < 10 nulls\n",
    "#data[\"beds\"] = data[\"beds\"].fillna(0)\n",
    "for col in data.columns:\n",
    "    data[col] = data[col].fillna(data[col].mean())"
   ]
  },
  {
   "cell_type": "code",
   "execution_count": 40,
   "metadata": {},
   "outputs": [
    {
     "data": {
      "text/plain": [
       "perc_transport_to_work_walk      0\n",
       "perc_transport_to_work_bike      0\n",
       "perc_transport_to_work_public    0\n",
       "perc_leave_for_work_530to559     0\n",
       "beds                             0\n",
       "dtype: int64"
      ]
     },
     "execution_count": 40,
     "metadata": {},
     "output_type": "execute_result"
    }
   ],
   "source": [
    "#Check we've removed them all:\n",
    "data.isnull().sum(axis = 0).sort_values().tail() #0. good."
   ]
  },
  {
   "cell_type": "code",
   "execution_count": 41,
   "metadata": {},
   "outputs": [],
   "source": [
    "#Percent Columns\n",
    "cols = [col for col in data.columns if 'perc' in col]\n",
    "\n",
    "for col in cols:\n",
    "    data.loc[data[col] > 1, col] = 1"
   ]
  },
  {
   "cell_type": "code",
   "execution_count": 42,
   "metadata": {},
   "outputs": [
    {
     "name": "stderr",
     "output_type": "stream",
     "text": [
      "/usr/local/lib/python3.7/site-packages/pandas/core/indexing.py:362: SettingWithCopyWarning: \n",
      "A value is trying to be set on a copy of a slice from a DataFrame.\n",
      "Try using .loc[row_indexer,col_indexer] = value instead\n",
      "\n",
      "See the caveats in the documentation: http://pandas.pydata.org/pandas-docs/stable/indexing.html#indexing-view-versus-copy\n",
      "  self.obj[key] = _infer_fill_value(value)\n",
      "/usr/local/lib/python3.7/site-packages/pandas/core/indexing.py:543: SettingWithCopyWarning: \n",
      "A value is trying to be set on a copy of a slice from a DataFrame.\n",
      "Try using .loc[row_indexer,col_indexer] = value instead\n",
      "\n",
      "See the caveats in the documentation: http://pandas.pydata.org/pandas-docs/stable/indexing.html#indexing-view-versus-copy\n",
      "  self.obj[item] = s\n"
     ]
    },
    {
     "data": {
      "text/plain": [
       "y\n",
       "High    99\n",
       "Low     78\n",
       "dtype: int64"
      ]
     },
     "execution_count": 42,
     "metadata": {},
     "output_type": "execute_result"
    }
   ],
   "source": [
    "#Number of cases per capita - continuous\n",
    "cases_per_10k = data[[\"MODZCTA\", \"Positive_0407\", 'pop_total']]\n",
    "\n",
    "cases_per_10k.loc[:,\"cases_per_10k_0407\"] = 10000 * cases_per_10k.loc[:,\"Positive_0407\"] / \\\n",
    "    cases_per_10k.loc[:,\"pop_total\"]\n",
    "\n",
    "y_categorical_0407 = np.zeros(len(cases_per_10k.cases_per_10k_0407))\n",
    "y_categorical_0407 = y_categorical_0407.astype(str)\n",
    "\n",
    "#Low\n",
    "y_categorical_0407[cases_per_10k.cases_per_10k_0407 <= 75] = \"Low\"\n",
    "#High\n",
    "y_categorical_0407[cases_per_10k.cases_per_10k_0407 > 75] = \"High\"\n",
    "\n",
    "pd.DataFrame(y_categorical_0407, columns = ['y']).groupby('y').size()"
   ]
  },
  {
   "cell_type": "code",
   "execution_count": 43,
   "metadata": {},
   "outputs": [],
   "source": [
    "data = data.merge(cases_per_10k, how = 'left', left_on = 'MODZCTA', right_on = 'MODZCTA')"
   ]
  },
  {
   "cell_type": "code",
   "execution_count": 44,
   "metadata": {},
   "outputs": [],
   "source": [
    "hi_data = data[data['cases_per_10k_0407'] > 75]\n",
    "low_data = data[data['cases_per_10k_0407'] <= 75]"
   ]
  },
  {
   "cell_type": "code",
   "execution_count": 45,
   "metadata": {},
   "outputs": [
    {
     "name": "stdout",
     "output_type": "stream",
     "text": [
      "(99, 87)\n",
      "(78, 87)\n"
     ]
    }
   ],
   "source": [
    "print(hi_data.shape) # 80 training\n",
    "print(low_data.shape) # 62 training\n",
    "# hi_data.head()"
   ]
  },
  {
   "cell_type": "code",
   "execution_count": 46,
   "metadata": {},
   "outputs": [],
   "source": [
    "DROP_COLUMNS = ['Positive_0401', 'Total_0401', 'Positive_0407_x', 'Total_0407', 'zcta_cum_perc_pos_0407', 'cases_per_10k_0407', 'Positive_0407_y', 'pop_total_y', 'pop_total_x']\n",
    "\n",
    "train_data = low_data[:62]\n",
    "train_y = train_data['cases_per_10k_0407']\n",
    "train_data = train_data.drop(DROP_COLUMNS, axis=1)\n",
    "\n",
    "test_data = low_data[62:]\n",
    "test_y = test_data['cases_per_10k_0407']\n",
    "test_data = test_data.drop(DROP_COLUMNS, axis=1)\n",
    "\n",
    "scale_data = low_data\n",
    "scale_data = scale_data.drop(DROP_COLUMNS, axis=1)"
   ]
  },
  {
   "cell_type": "markdown",
   "metadata": {},
   "source": [
    "## Normalize"
   ]
  },
  {
   "cell_type": "code",
   "execution_count": 47,
   "metadata": {},
   "outputs": [],
   "source": [
    "#Set the scaler\n",
    "scaler = preprocessing.StandardScaler().fit(scale_data)\n",
    "#Scale train/test data\n",
    "train_data = scaler.transform(train_data)\n",
    "test_data = scaler.transform(test_data)"
   ]
  },
  {
   "cell_type": "markdown",
   "metadata": {},
   "source": [
    "## Plot regularization path"
   ]
  },
  {
   "cell_type": "code",
   "execution_count": 48,
   "metadata": {},
   "outputs": [],
   "source": [
    "\n",
    "from sklearn import linear_model\n",
    "import itertools\n",
    "\n",
    "eps = 0.0001\n",
    "alphas_lasso, coefs_lasso, _ = linear_model.enet_path(\n",
    "    train_data, train_y,n_alphas=10000, eps=eps, l1_ratio=1., fit_intercept=False)"
   ]
  },
  {
   "cell_type": "code",
   "execution_count": 49,
   "metadata": {},
   "outputs": [],
   "source": [
    "cols = low_data\n",
    "data_columns = cols.drop(DROP_COLUMNS, axis=1).columns"
   ]
  },
  {
   "cell_type": "code",
   "execution_count": 62,
   "metadata": {},
   "outputs": [
    {
     "data": {
      "image/png": "[encoded data removed]",
      "text/plain": [
       "<Figure size 432x288 with 1 Axes>"
      ]
     },
     "metadata": {
      "needs_background": "light"
     },
     "output_type": "display_data"
    }
   ],
   "source": [
    "# Plot the regularization paths:\n",
    "# Display results\n",
    "\n",
    "# make legend small ==\n",
    "from matplotlib.font_manager import FontProperties\n",
    "fontP = FontProperties()\n",
    "fontP.set_size('small')\n",
    "# make legend small ==\n",
    "\n",
    "plt.figure(1)\n",
    "colors = itertools.cycle(['b', 'r', 'g', 'c', 'k'])\n",
    "neg_log_alphas_lasso = np.log10(alphas_lasso)\n",
    "i = 0\n",
    "for coef_l, c in zip(coefs_lasso, colors):\n",
    "    l1 = plt.plot(neg_log_alphas_lasso, coef_l, c=np.random.rand(3,), label=data_columns[i])\n",
    "    i += 1\n",
    "\n",
    "plt.xlabel('-Log(alpha)')\n",
    "plt.ylabel('coefficients')\n",
    "plt.title('Lasso Paths')\n",
    "plt.axis('tight')\n",
    "# plt.legend(prop=fontP)\n",
    "plt.show()"
   ]
  },
  {
   "cell_type": "markdown",
   "metadata": {},
   "source": [
    "### gridsearch to find optimal alpha"
   ]
  },
  {
   "cell_type": "code",
   "execution_count": 51,
   "metadata": {},
   "outputs": [
    {
     "name": "stderr",
     "output_type": "stream",
     "text": [
      "/usr/local/lib/python3.7/site-packages/sklearn/linear_model/_coordinate_descent.py:476: ConvergenceWarning: Objective did not converge. You might want to increase the number of iterations. Duality gap: 12.668744080605713, tolerance: 0.5195095142870195\n",
      "  positive)\n",
      "/usr/local/lib/python3.7/site-packages/sklearn/linear_model/_coordinate_descent.py:476: ConvergenceWarning: Objective did not converge. You might want to increase the number of iterations. Duality gap: 8.284660797930655, tolerance: 0.7174706377965137\n",
      "  positive)\n",
      "/usr/local/lib/python3.7/site-packages/sklearn/linear_model/_coordinate_descent.py:476: ConvergenceWarning: Objective did not converge. You might want to increase the number of iterations. Duality gap: 2.9297010799960574, tolerance: 0.5894751438716854\n",
      "  positive)\n",
      "/usr/local/lib/python3.7/site-packages/sklearn/linear_model/_coordinate_descent.py:476: ConvergenceWarning: Objective did not converge. You might want to increase the number of iterations. Duality gap: 14.210270965292857, tolerance: 0.7185642407848638\n",
      "  positive)\n",
      "/usr/local/lib/python3.7/site-packages/sklearn/linear_model/_coordinate_descent.py:476: ConvergenceWarning: Objective did not converge. You might want to increase the number of iterations. Duality gap: 18.798306569227393, tolerance: 0.7131502253146111\n",
      "  positive)\n",
      "/usr/local/lib/python3.7/site-packages/sklearn/linear_model/_coordinate_descent.py:476: ConvergenceWarning: Objective did not converge. You might want to increase the number of iterations. Duality gap: 9.390234578025513, tolerance: 0.5195095142870195\n",
      "  positive)\n",
      "/usr/local/lib/python3.7/site-packages/sklearn/linear_model/_coordinate_descent.py:476: ConvergenceWarning: Objective did not converge. You might want to increase the number of iterations. Duality gap: 0.7671951826506316, tolerance: 0.7174706377965137\n",
      "  positive)\n",
      "/usr/local/lib/python3.7/site-packages/sklearn/linear_model/_coordinate_descent.py:476: ConvergenceWarning: Objective did not converge. You might want to increase the number of iterations. Duality gap: 0.9116907890235382, tolerance: 0.5894751438716854\n",
      "  positive)\n",
      "/usr/local/lib/python3.7/site-packages/sklearn/linear_model/_coordinate_descent.py:476: ConvergenceWarning: Objective did not converge. You might want to increase the number of iterations. Duality gap: 3.3313366840203145, tolerance: 0.7185642407848638\n",
      "  positive)\n",
      "/usr/local/lib/python3.7/site-packages/sklearn/linear_model/_coordinate_descent.py:476: ConvergenceWarning: Objective did not converge. You might want to increase the number of iterations. Duality gap: 4.162455732284172, tolerance: 0.7131502253146111\n",
      "  positive)\n",
      "/usr/local/lib/python3.7/site-packages/sklearn/linear_model/_coordinate_descent.py:476: ConvergenceWarning: Objective did not converge. You might want to increase the number of iterations. Duality gap: 1.330914335956578, tolerance: 0.5195095142870195\n",
      "  positive)\n",
      "/usr/local/lib/python3.7/site-packages/sklearn/linear_model/_coordinate_descent.py:476: ConvergenceWarning: Objective did not converge. You might want to increase the number of iterations. Duality gap: 5.238891760231269, tolerance: 0.7185642407848638\n",
      "  positive)\n",
      "/usr/local/lib/python3.7/site-packages/sklearn/linear_model/_coordinate_descent.py:476: ConvergenceWarning: Objective did not converge. You might want to increase the number of iterations. Duality gap: 2.5107646776235697, tolerance: 0.7185642407848638\n",
      "  positive)\n"
     ]
    },
    {
     "data": {
      "text/plain": [
       "GridSearchCV(cv=5, error_score=nan,\n",
       "             estimator=Lasso(alpha=1.0, copy_X=True, fit_intercept=True,\n",
       "                             max_iter=1000, normalize=False, positive=False,\n",
       "                             precompute=False, random_state=0,\n",
       "                             selection='cyclic', tol=0.0001, warm_start=False),\n",
       "             iid='deprecated', n_jobs=None,\n",
       "             param_grid=[{'alpha': array([3.16227766e-02, 4.52035366e-02, 6.46167079e-02, 9.23670857e-02,\n",
       "       1.32035178e-01, 1....\n",
       "       2.30180731e+00, 3.29034456e+00, 4.70342034e+00, 6.72335754e+00,\n",
       "       9.61077966e+00, 1.37382380e+01, 1.96382800e+01, 2.80721620e+01,\n",
       "       4.01280703e+01, 5.73615251e+01, 8.19960824e+01, 1.17210230e+02,\n",
       "       1.67547492e+02, 2.39502662e+02, 3.42359796e+02, 4.89390092e+02,\n",
       "       6.99564216e+02, 1.00000000e+03])}],\n",
       "             pre_dispatch='2*n_jobs', refit=False, return_train_score=False,\n",
       "             scoring=None, verbose=0)"
      ]
     },
     "execution_count": 51,
     "metadata": {},
     "output_type": "execute_result"
    }
   ],
   "source": [
    "from sklearn.model_selection import GridSearchCV\n",
    "from sklearn.linear_model import Ridge\n",
    "from sklearn.linear_model import Lasso\n",
    "\n",
    "lasso = Lasso(random_state=0, max_iter=1000)\n",
    "alphas = np.logspace(-1.5, 3, 30)\n",
    "\n",
    "tuned_parameters = [{'alpha': alphas}]\n",
    "n_folds = 5\n",
    "\n",
    "clf = GridSearchCV(lasso, tuned_parameters, cv=n_folds, refit=False)\n",
    "clf.fit(train_data, train_y)"
   ]
  },
  {
   "cell_type": "code",
   "execution_count": 52,
   "metadata": {},
   "outputs": [
    {
     "name": "stdout",
     "output_type": "stream",
     "text": [
      "best regularization param: 2.3018073130224677\n"
     ]
    }
   ],
   "source": [
    "print('best regularization param:', clf.best_params_['alpha'])\n",
    "alpha = clf.best_params_['alpha']"
   ]
  },
  {
   "cell_type": "markdown",
   "metadata": {},
   "source": [
    "### step 3. train lasso\n"
   ]
  },
  {
   "cell_type": "code",
   "execution_count": 59,
   "metadata": {},
   "outputs": [
    {
     "data": {
      "text/plain": [
       "ElasticNet(alpha=2.3018073130224677, copy_X=True, fit_intercept=True,\n",
       "           l1_ratio=1, max_iter=1000, normalize=False, positive=False,\n",
       "           precompute=False, random_state=None, selection='cyclic', tol=0.0001,\n",
       "           warm_start=False)"
      ]
     },
     "execution_count": 59,
     "metadata": {},
     "output_type": "execute_result"
    }
   ],
   "source": [
    "from sklearn.linear_model import ElasticNet\n",
    "lasso_model = ElasticNet(alpha=alpha, l1_ratio=1)\n",
    "lasso_model.fit(train_data, train_y)"
   ]
  },
  {
   "cell_type": "markdown",
   "metadata": {},
   "source": [
    "### step 4. pull out nonzero columns"
   ]
  },
  {
   "cell_type": "code",
   "execution_count": 60,
   "metadata": {},
   "outputs": [
    {
     "name": "stdout",
     "output_type": "stream",
     "text": [
      "pop_perc_some_college,\n",
      "perc_leave_for_work_8to829,\n",
      "perc_with_Supplemental_Security_Income_cash_public_assistance_income_or_Food_Stamps_SNAP,\n",
      "perc_SSI,\n"
     ]
    }
   ],
   "source": [
    "for col, val in zip(data_columns, lasso_model.coef_.tolist()):\n",
    "    if val != 0:\n",
    "        print(col, end=\",\\n\")"
   ]
  },
  {
   "cell_type": "code",
   "execution_count": 61,
   "metadata": {},
   "outputs": [
    {
     "data": {
      "text/plain": [
       "-0.1729637434509359"
      ]
     },
     "execution_count": 61,
     "metadata": {},
     "output_type": "execute_result"
    }
   ],
   "source": [
    "lasso_model.score(test_data, test_y)"
   ]
  },
  {
   "cell_type": "code",
   "execution_count": null,
   "metadata": {},
   "outputs": [],
   "source": []
  }
 ],
 "metadata": {
  "kernelspec": {
   "display_name": "Python 3",
   "language": "python",
   "name": "python3"
  },
  "language_info": {
   "codemirror_mode": {
    "name": "ipython",
    "version": 3
   },
   "file_extension": ".py",
   "mimetype": "text/x-python",
   "name": "python",
   "nbconvert_exporter": "python",
   "pygments_lexer": "ipython3",
   "version": "3.7.7"
  }
 },
 "nbformat": 4,
 "nbformat_minor": 2
}
