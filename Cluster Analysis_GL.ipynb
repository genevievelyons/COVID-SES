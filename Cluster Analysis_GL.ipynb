{
 "cells": [
  {
   "cell_type": "code",
   "execution_count": 172,
   "metadata": {},
   "outputs": [],
   "source": [
    "#Packages\n",
    "%matplotlib inline\n",
    "import pandas as pd\n",
    "import numpy as np\n",
    "import matplotlib.pyplot as plt\n",
    "import seaborn as sns\n",
    "import geopandas as gpd\n",
    "import os, glob\n",
    "from sklearn import preprocessing\n",
    "from sklearn.decomposition import PCA"
   ]
  },
  {
   "cell_type": "markdown",
   "metadata": {},
   "source": [
    "## Load and Manipulate Data"
   ]
  },
  {
   "cell_type": "markdown",
   "metadata": {},
   "source": [
    "### Load the data"
   ]
  },
  {
   "cell_type": "code",
   "execution_count": 70,
   "metadata": {},
   "outputs": [],
   "source": [
    "#Load the census data\n",
    "census_dat = pd.read_csv('./data/Census_Data_Cleaned.csv', dtype = 'str')\n",
    "\n",
    "#Load the hospital beds data\n",
    "beds_dat = pd.read_csv('./data/hospital_beds_data.csv', dtype = 'str')\n",
    "\n",
    "#Load the cases data\n",
    "cases_nyc = pd.read_csv('./data/coronavirus-data/tests-by-zcta.csv', dtype = 'str')"
   ]
  },
  {
   "cell_type": "markdown",
   "metadata": {},
   "source": [
    "### Combine and Manipulate the data"
   ]
  },
  {
   "cell_type": "code",
   "execution_count": 71,
   "metadata": {},
   "outputs": [],
   "source": [
    "#Join all the values together\n",
    "data = cases_nyc.merge(census_dat, how = 'left', left_on = 'MODZCTA', right_on = 'zip_code_tabulation_area')\n",
    "data = data.merge(beds_dat, how = 'left', left_on = 'MODZCTA', right_on = 'zip')\n",
    "\n",
    "data[\"beds\"] = data[\"beds\"].fillna(0)"
   ]
  },
  {
   "cell_type": "code",
   "execution_count": 72,
   "metadata": {},
   "outputs": [],
   "source": [
    "#Remove the first record (no zip)\n",
    "data = data[1:]\n",
    "\n",
    "#Remove the zip code columns\n",
    "data = data.loc[:, data.columns != 'zip_code_tabulation_area']\n",
    "data = data.loc[:, data.columns != 'zip']"
   ]
  },
  {
   "cell_type": "code",
   "execution_count": 73,
   "metadata": {},
   "outputs": [],
   "source": [
    "#Cast the rest of the columns as float\n",
    "for col in data.columns:\n",
    "    if col == \"MODZCTA\":\n",
    "        continue \n",
    "    else:\n",
    "        data.loc[:,col] = data.loc[:,col].astype(float)"
   ]
  },
  {
   "cell_type": "code",
   "execution_count": 74,
   "metadata": {},
   "outputs": [
    {
     "data": {
      "text/html": [
       "<div>\n",
       "<style scoped>\n",
       "    .dataframe tbody tr th:only-of-type {\n",
       "        vertical-align: middle;\n",
       "    }\n",
       "\n",
       "    .dataframe tbody tr th {\n",
       "        vertical-align: top;\n",
       "    }\n",
       "\n",
       "    .dataframe thead th {\n",
       "        text-align: right;\n",
       "    }\n",
       "</style>\n",
       "<table border=\"1\" class=\"dataframe\">\n",
       "  <thead>\n",
       "    <tr style=\"text-align: right;\">\n",
       "      <th></th>\n",
       "      <th>MODZCTA</th>\n",
       "      <th>Positive</th>\n",
       "      <th>Total</th>\n",
       "      <th>zcta_cum.perc_pos</th>\n",
       "      <th>median_house_income</th>\n",
       "      <th>housing_units</th>\n",
       "      <th>pop_total</th>\n",
       "      <th>med_age</th>\n",
       "      <th>pop_perc_white</th>\n",
       "      <th>pop_perc_black</th>\n",
       "      <th>...</th>\n",
       "      <th>perc_transportation_warehousing</th>\n",
       "      <th>perc_utilites</th>\n",
       "      <th>perc_information</th>\n",
       "      <th>perc_finance</th>\n",
       "      <th>perc_scientific</th>\n",
       "      <th>perc_education_healthcare</th>\n",
       "      <th>perc_arts_entertainment</th>\n",
       "      <th>perc_otherservices</th>\n",
       "      <th>perc_publicadministration</th>\n",
       "      <th>beds</th>\n",
       "    </tr>\n",
       "  </thead>\n",
       "  <tbody>\n",
       "    <tr>\n",
       "      <td>1</td>\n",
       "      <td>10001</td>\n",
       "      <td>288.0</td>\n",
       "      <td>685.0</td>\n",
       "      <td>42.04</td>\n",
       "      <td>86801.0</td>\n",
       "      <td>13305.0</td>\n",
       "      <td>23537.0</td>\n",
       "      <td>35.6</td>\n",
       "      <td>0.602456</td>\n",
       "      <td>0.121893</td>\n",
       "      <td>...</td>\n",
       "      <td>0.060729</td>\n",
       "      <td>0.005398</td>\n",
       "      <td>0.018893</td>\n",
       "      <td>0.020243</td>\n",
       "      <td>0.037787</td>\n",
       "      <td>0.191633</td>\n",
       "      <td>0.017544</td>\n",
       "      <td>0.018893</td>\n",
       "      <td>0.045884</td>\n",
       "      <td>0.0</td>\n",
       "    </tr>\n",
       "    <tr>\n",
       "      <td>2</td>\n",
       "      <td>10002</td>\n",
       "      <td>780.0</td>\n",
       "      <td>1603.0</td>\n",
       "      <td>48.66</td>\n",
       "      <td>33726.0</td>\n",
       "      <td>35691.0</td>\n",
       "      <td>80736.0</td>\n",
       "      <td>40.8</td>\n",
       "      <td>0.295605</td>\n",
       "      <td>0.086108</td>\n",
       "      <td>...</td>\n",
       "      <td>0.000000</td>\n",
       "      <td>0.000000</td>\n",
       "      <td>0.000000</td>\n",
       "      <td>0.000000</td>\n",
       "      <td>0.000000</td>\n",
       "      <td>0.333333</td>\n",
       "      <td>0.000000</td>\n",
       "      <td>0.000000</td>\n",
       "      <td>0.000000</td>\n",
       "      <td>0.0</td>\n",
       "    </tr>\n",
       "    <tr>\n",
       "      <td>3</td>\n",
       "      <td>10003</td>\n",
       "      <td>368.0</td>\n",
       "      <td>977.0</td>\n",
       "      <td>37.67</td>\n",
       "      <td>98151.0</td>\n",
       "      <td>31575.0</td>\n",
       "      <td>57112.0</td>\n",
       "      <td>32.1</td>\n",
       "      <td>0.776352</td>\n",
       "      <td>0.043599</td>\n",
       "      <td>...</td>\n",
       "      <td>0.050100</td>\n",
       "      <td>0.008016</td>\n",
       "      <td>0.022044</td>\n",
       "      <td>0.040080</td>\n",
       "      <td>0.088176</td>\n",
       "      <td>0.126253</td>\n",
       "      <td>0.036072</td>\n",
       "      <td>0.026052</td>\n",
       "      <td>0.052104</td>\n",
       "      <td>501.0</td>\n",
       "    </tr>\n",
       "    <tr>\n",
       "      <td>4</td>\n",
       "      <td>10004</td>\n",
       "      <td>26.0</td>\n",
       "      <td>75.0</td>\n",
       "      <td>34.67</td>\n",
       "      <td>119691.0</td>\n",
       "      <td>2082.0</td>\n",
       "      <td>3221.0</td>\n",
       "      <td>33.1</td>\n",
       "      <td>0.705992</td>\n",
       "      <td>0.007141</td>\n",
       "      <td>...</td>\n",
       "      <td>0.000000</td>\n",
       "      <td>0.000000</td>\n",
       "      <td>0.000000</td>\n",
       "      <td>0.000000</td>\n",
       "      <td>0.312500</td>\n",
       "      <td>0.000000</td>\n",
       "      <td>0.000000</td>\n",
       "      <td>0.000000</td>\n",
       "      <td>0.000000</td>\n",
       "      <td>0.0</td>\n",
       "    </tr>\n",
       "    <tr>\n",
       "      <td>5</td>\n",
       "      <td>10005</td>\n",
       "      <td>48.0</td>\n",
       "      <td>156.0</td>\n",
       "      <td>30.77</td>\n",
       "      <td>124194.0</td>\n",
       "      <td>5254.0</td>\n",
       "      <td>8131.0</td>\n",
       "      <td>29.4</td>\n",
       "      <td>0.753413</td>\n",
       "      <td>0.029517</td>\n",
       "      <td>...</td>\n",
       "      <td>0.050412</td>\n",
       "      <td>0.004583</td>\n",
       "      <td>0.018332</td>\n",
       "      <td>0.032997</td>\n",
       "      <td>0.035747</td>\n",
       "      <td>0.156737</td>\n",
       "      <td>0.096242</td>\n",
       "      <td>0.039413</td>\n",
       "      <td>0.048579</td>\n",
       "      <td>0.0</td>\n",
       "    </tr>\n",
       "  </tbody>\n",
       "</table>\n",
       "<p>5 rows × 87 columns</p>\n",
       "</div>"
      ],
      "text/plain": [
       "  MODZCTA  Positive   Total  zcta_cum.perc_pos  median_house_income  \\\n",
       "1   10001     288.0   685.0              42.04              86801.0   \n",
       "2   10002     780.0  1603.0              48.66              33726.0   \n",
       "3   10003     368.0   977.0              37.67              98151.0   \n",
       "4   10004      26.0    75.0              34.67             119691.0   \n",
       "5   10005      48.0   156.0              30.77             124194.0   \n",
       "\n",
       "   housing_units  pop_total  med_age  pop_perc_white  pop_perc_black  ...  \\\n",
       "1        13305.0    23537.0     35.6        0.602456        0.121893  ...   \n",
       "2        35691.0    80736.0     40.8        0.295605        0.086108  ...   \n",
       "3        31575.0    57112.0     32.1        0.776352        0.043599  ...   \n",
       "4         2082.0     3221.0     33.1        0.705992        0.007141  ...   \n",
       "5         5254.0     8131.0     29.4        0.753413        0.029517  ...   \n",
       "\n",
       "   perc_transportation_warehousing  perc_utilites  perc_information  \\\n",
       "1                         0.060729       0.005398          0.018893   \n",
       "2                         0.000000       0.000000          0.000000   \n",
       "3                         0.050100       0.008016          0.022044   \n",
       "4                         0.000000       0.000000          0.000000   \n",
       "5                         0.050412       0.004583          0.018332   \n",
       "\n",
       "   perc_finance  perc_scientific  perc_education_healthcare  \\\n",
       "1      0.020243         0.037787                   0.191633   \n",
       "2      0.000000         0.000000                   0.333333   \n",
       "3      0.040080         0.088176                   0.126253   \n",
       "4      0.000000         0.312500                   0.000000   \n",
       "5      0.032997         0.035747                   0.156737   \n",
       "\n",
       "   perc_arts_entertainment  perc_otherservices  perc_publicadministration  \\\n",
       "1                 0.017544            0.018893                   0.045884   \n",
       "2                 0.000000            0.000000                   0.000000   \n",
       "3                 0.036072            0.026052                   0.052104   \n",
       "4                 0.000000            0.000000                   0.000000   \n",
       "5                 0.096242            0.039413                   0.048579   \n",
       "\n",
       "    beds  \n",
       "1    0.0  \n",
       "2    0.0  \n",
       "3  501.0  \n",
       "4    0.0  \n",
       "5    0.0  \n",
       "\n",
       "[5 rows x 87 columns]"
      ]
     },
     "execution_count": 74,
     "metadata": {},
     "output_type": "execute_result"
    }
   ],
   "source": [
    "data.head()"
   ]
  },
  {
   "cell_type": "markdown",
   "metadata": {},
   "source": [
    "### Handle Null Values"
   ]
  },
  {
   "cell_type": "code",
   "execution_count": 95,
   "metadata": {},
   "outputs": [
    {
     "data": {
      "text/plain": [
       "med_monthlyhousingcost               3\n",
       "med_numberrooms                      6\n",
       "med_yearbuilt                        7\n",
       "perc_hadbaby_pastyear_married        7\n",
       "perc_hadbaby_pastyear_unmarried      7\n",
       "med_value                           26\n",
       "avg_hoursworked                     33\n",
       "med_contractrent                    58\n",
       "avg_income_deficit_pastyear        129\n",
       "med_age_marriage                   177\n",
       "dtype: int64"
      ]
     },
     "execution_count": 95,
     "metadata": {},
     "output_type": "execute_result"
    }
   ],
   "source": [
    "#Null values\n",
    "data.isnull().sum(axis = 0).sort_values().tail(10)"
   ]
  },
  {
   "cell_type": "code",
   "execution_count": 93,
   "metadata": {},
   "outputs": [
    {
     "data": {
      "text/html": [
       "<div>\n",
       "<style scoped>\n",
       "    .dataframe tbody tr th:only-of-type {\n",
       "        vertical-align: middle;\n",
       "    }\n",
       "\n",
       "    .dataframe tbody tr th {\n",
       "        vertical-align: top;\n",
       "    }\n",
       "\n",
       "    .dataframe thead th {\n",
       "        text-align: right;\n",
       "    }\n",
       "</style>\n",
       "<table border=\"1\" class=\"dataframe\">\n",
       "  <thead>\n",
       "    <tr style=\"text-align: right;\">\n",
       "      <th></th>\n",
       "      <th>MODZCTA</th>\n",
       "      <th>Positive</th>\n",
       "      <th>Total</th>\n",
       "      <th>zcta_cum.perc_pos</th>\n",
       "      <th>median_house_income</th>\n",
       "      <th>housing_units</th>\n",
       "      <th>pop_total</th>\n",
       "      <th>med_age</th>\n",
       "      <th>pop_perc_white</th>\n",
       "      <th>pop_perc_black</th>\n",
       "      <th>...</th>\n",
       "      <th>perc_transportation_warehousing</th>\n",
       "      <th>perc_utilites</th>\n",
       "      <th>perc_information</th>\n",
       "      <th>perc_finance</th>\n",
       "      <th>perc_scientific</th>\n",
       "      <th>perc_education_healthcare</th>\n",
       "      <th>perc_arts_entertainment</th>\n",
       "      <th>perc_otherservices</th>\n",
       "      <th>perc_publicadministration</th>\n",
       "      <th>beds</th>\n",
       "    </tr>\n",
       "  </thead>\n",
       "  <tbody>\n",
       "    <tr>\n",
       "      <td>2</td>\n",
       "      <td>10002</td>\n",
       "      <td>780.0</td>\n",
       "      <td>1603.0</td>\n",
       "      <td>48.66</td>\n",
       "      <td>33726.0</td>\n",
       "      <td>35691.0</td>\n",
       "      <td>80736.0</td>\n",
       "      <td>40.8</td>\n",
       "      <td>0.295605</td>\n",
       "      <td>0.086108</td>\n",
       "      <td>...</td>\n",
       "      <td>0.0</td>\n",
       "      <td>0.0</td>\n",
       "      <td>0.0</td>\n",
       "      <td>0.0</td>\n",
       "      <td>0.0</td>\n",
       "      <td>0.333333</td>\n",
       "      <td>0.0</td>\n",
       "      <td>0.0</td>\n",
       "      <td>0.0</td>\n",
       "      <td>0.0</td>\n",
       "    </tr>\n",
       "    <tr>\n",
       "      <td>147</td>\n",
       "      <td>11377</td>\n",
       "      <td>1627.0</td>\n",
       "      <td>2892.0</td>\n",
       "      <td>56.26</td>\n",
       "      <td>50436.0</td>\n",
       "      <td>33840.0</td>\n",
       "      <td>90615.0</td>\n",
       "      <td>36.7</td>\n",
       "      <td>0.478971</td>\n",
       "      <td>0.026673</td>\n",
       "      <td>...</td>\n",
       "      <td>NaN</td>\n",
       "      <td>NaN</td>\n",
       "      <td>NaN</td>\n",
       "      <td>NaN</td>\n",
       "      <td>NaN</td>\n",
       "      <td>NaN</td>\n",
       "      <td>NaN</td>\n",
       "      <td>NaN</td>\n",
       "      <td>NaN</td>\n",
       "      <td>0.0</td>\n",
       "    </tr>\n",
       "    <tr>\n",
       "      <td>166</td>\n",
       "      <td>11428</td>\n",
       "      <td>547.0</td>\n",
       "      <td>936.0</td>\n",
       "      <td>58.44</td>\n",
       "      <td>67151.0</td>\n",
       "      <td>5929.0</td>\n",
       "      <td>19744.0</td>\n",
       "      <td>40.2</td>\n",
       "      <td>0.222194</td>\n",
       "      <td>0.184410</td>\n",
       "      <td>...</td>\n",
       "      <td>NaN</td>\n",
       "      <td>NaN</td>\n",
       "      <td>NaN</td>\n",
       "      <td>NaN</td>\n",
       "      <td>NaN</td>\n",
       "      <td>NaN</td>\n",
       "      <td>NaN</td>\n",
       "      <td>NaN</td>\n",
       "      <td>NaN</td>\n",
       "      <td>0.0</td>\n",
       "    </tr>\n",
       "  </tbody>\n",
       "</table>\n",
       "<p>3 rows × 87 columns</p>\n",
       "</div>"
      ],
      "text/plain": [
       "    MODZCTA  Positive   Total  zcta_cum.perc_pos  median_house_income  \\\n",
       "2     10002     780.0  1603.0              48.66              33726.0   \n",
       "147   11377    1627.0  2892.0              56.26              50436.0   \n",
       "166   11428     547.0   936.0              58.44              67151.0   \n",
       "\n",
       "     housing_units  pop_total  med_age  pop_perc_white  pop_perc_black  ...  \\\n",
       "2          35691.0    80736.0     40.8        0.295605        0.086108  ...   \n",
       "147        33840.0    90615.0     36.7        0.478971        0.026673  ...   \n",
       "166         5929.0    19744.0     40.2        0.222194        0.184410  ...   \n",
       "\n",
       "     perc_transportation_warehousing  perc_utilites  perc_information  \\\n",
       "2                                0.0            0.0               0.0   \n",
       "147                              NaN            NaN               NaN   \n",
       "166                              NaN            NaN               NaN   \n",
       "\n",
       "     perc_finance  perc_scientific  perc_education_healthcare  \\\n",
       "2             0.0              0.0                   0.333333   \n",
       "147           NaN              NaN                        NaN   \n",
       "166           NaN              NaN                        NaN   \n",
       "\n",
       "     perc_arts_entertainment  perc_otherservices  perc_publicadministration  \\\n",
       "2                        0.0                 0.0                        0.0   \n",
       "147                      NaN                 NaN                        NaN   \n",
       "166                      NaN                 NaN                        NaN   \n",
       "\n",
       "     beds  \n",
       "2     0.0  \n",
       "147   0.0  \n",
       "166   0.0  \n",
       "\n",
       "[3 rows x 87 columns]"
      ]
     },
     "execution_count": 93,
     "metadata": {},
     "output_type": "execute_result"
    }
   ],
   "source": [
    "data[data.med_monthlyhousingcost.isnull()]"
   ]
  },
  {
   "cell_type": "markdown",
   "metadata": {},
   "source": [
    "None of the columns with very common nulls seem too critical. We will exclude the columns with more than 10 nulls and for those with less than 10 nulls we will impute the value using the average."
   ]
  },
  {
   "cell_type": "code",
   "execution_count": 100,
   "metadata": {},
   "outputs": [],
   "source": [
    "#Exclude columns with > 10 nulls\n",
    "data = data.drop(['med_value','avg_hoursworked','med_contractrent',\n",
    "                  'avg_income_deficit_pastyear','med_age_marriage'], axis = 1)"
   ]
  },
  {
   "cell_type": "code",
   "execution_count": 108,
   "metadata": {},
   "outputs": [],
   "source": [
    "#Impute values for columsn with < 10 nulls\n",
    "#data[\"beds\"] = data[\"beds\"].fillna(0)\n",
    "for col in data.columns:\n",
    "    data[col] = data[col].fillna(data[col].mean())"
   ]
  },
  {
   "cell_type": "code",
   "execution_count": 112,
   "metadata": {},
   "outputs": [
    {
     "data": {
      "text/plain": [
       "perc_transport_to_work_workathome    0\n",
       "perc_transport_to_work_taxi          0\n",
       "perc_transport_to_work_walk          0\n",
       "perc_transport_to_work_public        0\n",
       "beds                                 0\n",
       "dtype: int64"
      ]
     },
     "execution_count": 112,
     "metadata": {},
     "output_type": "execute_result"
    }
   ],
   "source": [
    "#Check we've removed them all:\n",
    "data.isnull().sum(axis = 0).sort_values().tail() #0. good."
   ]
  },
  {
   "cell_type": "code",
   "execution_count": 151,
   "metadata": {},
   "outputs": [],
   "source": [
    "#Percent Columns\n",
    "cols = [col for col in data.columns if 'perc' in col]\n",
    "\n",
    "for col in cols:\n",
    "    data.loc[data[col] > 1, col] = 1"
   ]
  },
  {
   "cell_type": "markdown",
   "metadata": {},
   "source": [
    "## Clustering Analysis"
   ]
  },
  {
   "cell_type": "markdown",
   "metadata": {},
   "source": [
    "### Standardize the data"
   ]
  },
  {
   "cell_type": "markdown",
   "metadata": {},
   "source": [
    "Standardize the Covariates"
   ]
  },
  {
   "cell_type": "code",
   "execution_count": 185,
   "metadata": {},
   "outputs": [],
   "source": [
    "X = data.loc[:,\"median_house_income\":]\n",
    "\n",
    "#Set the scaler\n",
    "X = preprocessing.StandardScaler().fit_transform(X)"
   ]
  },
  {
   "cell_type": "markdown",
   "metadata": {},
   "source": [
    "Standardize the outcome variable (disease burden)"
   ]
  },
  {
   "cell_type": "code",
   "execution_count": 188,
   "metadata": {},
   "outputs": [],
   "source": [
    "y = np.array(data[[\"Positive\"]]).reshape(-1)"
   ]
  },
  {
   "cell_type": "code",
   "execution_count": 193,
   "metadata": {},
   "outputs": [],
   "source": [
    "cases_per_10k = (data.Positive / data.pop_total) * 10000"
   ]
  },
  {
   "cell_type": "code",
   "execution_count": 219,
   "metadata": {},
   "outputs": [
    {
     "data": {
      "image/png": "[encoded data removed]",
      "text/plain": [
       "<Figure size 432x288 with 1 Axes>"
      ]
     },
     "metadata": {
      "needs_background": "light"
     },
     "output_type": "display_data"
    }
   ],
   "source": [
    "#Visualize the distribution of cases by zip\n",
    "sns.distplot(cases_per_10k, bins = 30)\n",
    "plt.title(\"Histogram of NYC Cases by Zip Code\")\n",
    "plt.xlabel(\"Cases per 10,000 Residents\")\n",
    "plt.show();"
   ]
  },
  {
   "cell_type": "markdown",
   "metadata": {},
   "source": [
    "For the purposes of plotting, it may be helpful to bin the disease burden into categories: High, Medium, Low."
   ]
  },
  {
   "cell_type": "code",
   "execution_count": 228,
   "metadata": {},
   "outputs": [],
   "source": [
    "y_categorical = cases_per_10k\n",
    "\n",
    "#Low\n",
    "y_categorical[cases_per_10k < cases_per_10k.mean() - cases_per_10k.std()] = 0\n",
    "#Medium\n",
    "y_categorical[cases_per_10k >= cases_per_10k.mean() - cases_per_10k.std()] = 1\n",
    "#High\n",
    "y_categorical[cases_per_10k >= cases_per_10k.mean() + cases_per_10k.std()] = 2"
   ]
  },
  {
   "cell_type": "markdown",
   "metadata": {},
   "source": [
    "### PCA and Visualization"
   ]
  },
  {
   "cell_type": "markdown",
   "metadata": {},
   "source": [
    "The bimodal distribution certainly seems to indicate that not all of these cases are coming from the same distribution and there are underlying factors that are differentiating these observations."
   ]
  },
  {
   "cell_type": "code",
   "execution_count": 186,
   "metadata": {},
   "outputs": [
    {
     "data": {
      "image/png": "[encoded data removed]",
      "text/plain": [
       "<Figure size 432x288 with 1 Axes>"
      ]
     },
     "metadata": {
      "needs_background": "light"
     },
     "output_type": "display_data"
    }
   ],
   "source": [
    "#Fit PCA\n",
    "pca = PCA().fit(X)\n",
    "X_pca = PCA().fit_transform(X)\n",
    "\n",
    "#Plot Variance explained\n",
    "plt.plot(list(range(1,79)), np.cumsum(pca.explained_variance_ratio_))\n",
    "plt.title(\"Cumulative Proportion of Variance Explained by Number of Components\")\n",
    "plt.xlabel(\"PCA Components\")\n",
    "plt.ylabel(\"Cumulative Proportion of Variance Explained\")\n",
    "plt.show();"
   ]
  },
  {
   "cell_type": "code",
   "execution_count": 218,
   "metadata": {},
   "outputs": [
    {
     "data": {
      "image/png": "[encoded data removed]",
      "text/plain": [
       "<Figure size 432x288 with 1 Axes>"
      ]
     },
     "metadata": {
      "needs_background": "light"
     },
     "output_type": "display_data"
    }
   ],
   "source": [
    "sns.scatterplot(X_pca[:,0],X_pca[:,1], hue = cases_per_10k)\n",
    "plt.title(\"Principle Components Analysis of NYC Zip Codes - \\\n",
    "          \\nColor by Disease Burden (Continuous Cases per 10,000 Residents)\")\n",
    "plt.xlabel(\"PCA 1 - \" + str(round(pca.explained_variance_ratio_[0] * 100,1)) + \"% Variance Explained\")\n",
    "plt.ylabel(\"PCA 2 - \" + str(round(pca.explained_variance_ratio_[1] * 100,1)) + \"% Variance Explained\")\n",
    "plt.show();"
   ]
  },
  {
   "cell_type": "code",
   "execution_count": 181,
   "metadata": {},
   "outputs": [
    {
     "data": {
      "text/html": [
       "<div>\n",
       "<style scoped>\n",
       "    .dataframe tbody tr th:only-of-type {\n",
       "        vertical-align: middle;\n",
       "    }\n",
       "\n",
       "    .dataframe tbody tr th {\n",
       "        vertical-align: top;\n",
       "    }\n",
       "\n",
       "    .dataframe thead th {\n",
       "        text-align: right;\n",
       "    }\n",
       "</style>\n",
       "<table border=\"1\" class=\"dataframe\">\n",
       "  <thead>\n",
       "    <tr style=\"text-align: right;\">\n",
       "      <th></th>\n",
       "      <th>Positive</th>\n",
       "    </tr>\n",
       "  </thead>\n",
       "  <tbody>\n",
       "    <tr>\n",
       "      <td>1</td>\n",
       "      <td>288.0</td>\n",
       "    </tr>\n",
       "    <tr>\n",
       "      <td>2</td>\n",
       "      <td>780.0</td>\n",
       "    </tr>\n",
       "    <tr>\n",
       "      <td>3</td>\n",
       "      <td>368.0</td>\n",
       "    </tr>\n",
       "    <tr>\n",
       "      <td>4</td>\n",
       "      <td>26.0</td>\n",
       "    </tr>\n",
       "    <tr>\n",
       "      <td>5</td>\n",
       "      <td>48.0</td>\n",
       "    </tr>\n",
       "    <tr>\n",
       "      <td>...</td>\n",
       "      <td>...</td>\n",
       "    </tr>\n",
       "    <tr>\n",
       "      <td>173</td>\n",
       "      <td>1738.0</td>\n",
       "    </tr>\n",
       "    <tr>\n",
       "      <td>174</td>\n",
       "      <td>457.0</td>\n",
       "    </tr>\n",
       "    <tr>\n",
       "      <td>175</td>\n",
       "      <td>275.0</td>\n",
       "    </tr>\n",
       "    <tr>\n",
       "      <td>176</td>\n",
       "      <td>551.0</td>\n",
       "    </tr>\n",
       "    <tr>\n",
       "      <td>177</td>\n",
       "      <td>79.0</td>\n",
       "    </tr>\n",
       "  </tbody>\n",
       "</table>\n",
       "<p>177 rows × 1 columns</p>\n",
       "</div>"
      ],
      "text/plain": [
       "     Positive\n",
       "1       288.0\n",
       "2       780.0\n",
       "3       368.0\n",
       "4        26.0\n",
       "5        48.0\n",
       "..        ...\n",
       "173    1738.0\n",
       "174     457.0\n",
       "175     275.0\n",
       "176     551.0\n",
       "177      79.0\n",
       "\n",
       "[177 rows x 1 columns]"
      ]
     },
     "execution_count": 181,
     "metadata": {},
     "output_type": "execute_result"
    }
   ],
   "source": [
    "y"
   ]
  },
  {
   "cell_type": "code",
   "execution_count": null,
   "metadata": {},
   "outputs": [],
   "source": []
  }
 ],
 "metadata": {
  "kernelspec": {
   "display_name": "Python 3",
   "language": "python",
   "name": "python3"
  },
  "language_info": {
   "codemirror_mode": {
    "name": "ipython",
    "version": 3
   },
   "file_extension": ".py",
   "mimetype": "text/x-python",
   "name": "python",
   "nbconvert_exporter": "python",
   "pygments_lexer": "ipython3",
   "version": "3.7.4"
  }
 },
 "nbformat": 4,
 "nbformat_minor": 2
}
