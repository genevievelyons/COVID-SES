{
 "cells": [
  {
   "cell_type": "code",
   "execution_count": 92,
   "metadata": {},
   "outputs": [],
   "source": [
    "#Packages\n",
    "%matplotlib inline\n",
    "import pandas as pd\n",
    "import numpy as np\n",
    "import matplotlib.pyplot as plt\n",
    "import os, glob"
   ]
  },
  {
   "cell_type": "markdown",
   "metadata": {},
   "source": [
    "## Load and Manipulate Data"
   ]
  },
  {
   "cell_type": "markdown",
   "metadata": {},
   "source": [
    "### Load the data"
   ]
  },
  {
   "cell_type": "code",
   "execution_count": 93,
   "metadata": {},
   "outputs": [],
   "source": [
    "#Load the census data\n",
    "census_dat = pd.read_csv('./data/Census_Data_Cleaned.csv', dtype = 'str')\n",
    "\n",
    "#Load the hospital beds data\n",
    "beds_dat = pd.read_csv('./data/hospital_beds_data.csv', dtype = 'str')\n",
    "\n",
    "#Load the cases data\n",
    "cases_nyc = pd.read_csv('./data/coronavirus-data/tests-by-zcta.csv', dtype = 'str')"
   ]
  },
  {
   "cell_type": "markdown",
   "metadata": {},
   "source": [
    "### Combine and Manipulate the data"
   ]
  },
  {
   "cell_type": "code",
   "execution_count": 94,
   "metadata": {},
   "outputs": [],
   "source": [
    "#Join all the values together\n",
    "data = cases_nyc.merge(census_dat, how = 'left', left_on = 'MODZCTA', right_on = 'zip_code_tabulation_area')\n",
    "data = data.merge(beds_dat, how = 'left', left_on = 'MODZCTA', right_on = 'zip')\n",
    "\n",
    "data[\"beds\"] = data[\"beds\"].fillna(0)"
   ]
  },
  {
   "cell_type": "code",
   "execution_count": 95,
   "metadata": {},
   "outputs": [],
   "source": [
    "#Remove the first record (no zip)\n",
    "data = data[1:]\n",
    "\n",
    "#Remove the zip code columns\n",
    "data = data.loc[:, data.columns != 'zip_code_tabulation_area']\n",
    "data = data.loc[:, data.columns != 'zip']"
   ]
  },
  {
   "cell_type": "code",
   "execution_count": 96,
   "metadata": {},
   "outputs": [],
   "source": [
    "#Cast the rest of the columns as float\n",
    "for col in data.columns:\n",
    "    if col == \"MODZCTA\":\n",
    "        continue \n",
    "    else:\n",
    "        data.loc[:,col] = data.loc[:,col].astype(float)"
   ]
  },
  {
   "cell_type": "code",
   "execution_count": 97,
   "metadata": {},
   "outputs": [
    {
     "data": {
      "text/html": [
       "<div>\n",
       "<style scoped>\n",
       "    .dataframe tbody tr th:only-of-type {\n",
       "        vertical-align: middle;\n",
       "    }\n",
       "\n",
       "    .dataframe tbody tr th {\n",
       "        vertical-align: top;\n",
       "    }\n",
       "\n",
       "    .dataframe thead th {\n",
       "        text-align: right;\n",
       "    }\n",
       "</style>\n",
       "<table border=\"1\" class=\"dataframe\">\n",
       "  <thead>\n",
       "    <tr style=\"text-align: right;\">\n",
       "      <th></th>\n",
       "      <th>MODZCTA</th>\n",
       "      <th>Positive</th>\n",
       "      <th>Total</th>\n",
       "      <th>zcta_cum.perc_pos</th>\n",
       "      <th>median_house_income</th>\n",
       "      <th>housing_units</th>\n",
       "      <th>pop_total</th>\n",
       "      <th>med_age</th>\n",
       "      <th>pop_perc_white</th>\n",
       "      <th>pop_perc_black</th>\n",
       "      <th>...</th>\n",
       "      <th>perc_transportation_warehousing</th>\n",
       "      <th>perc_utilites</th>\n",
       "      <th>perc_information</th>\n",
       "      <th>perc_finance</th>\n",
       "      <th>perc_scientific</th>\n",
       "      <th>perc_education_healthcare</th>\n",
       "      <th>perc_arts_entertainment</th>\n",
       "      <th>perc_otherservices</th>\n",
       "      <th>perc_publicadministration</th>\n",
       "      <th>beds</th>\n",
       "    </tr>\n",
       "  </thead>\n",
       "  <tbody>\n",
       "    <tr>\n",
       "      <th>1</th>\n",
       "      <td>10001</td>\n",
       "      <td>303.0</td>\n",
       "      <td>805.0</td>\n",
       "      <td>37.64</td>\n",
       "      <td>86801.0</td>\n",
       "      <td>13305.0</td>\n",
       "      <td>23537.0</td>\n",
       "      <td>35.6</td>\n",
       "      <td>0.602456</td>\n",
       "      <td>0.121893</td>\n",
       "      <td>...</td>\n",
       "      <td>0.060729</td>\n",
       "      <td>0.005398</td>\n",
       "      <td>0.018893</td>\n",
       "      <td>0.020243</td>\n",
       "      <td>0.037787</td>\n",
       "      <td>0.191633</td>\n",
       "      <td>0.017544</td>\n",
       "      <td>0.018893</td>\n",
       "      <td>0.045884</td>\n",
       "      <td>0.0</td>\n",
       "    </tr>\n",
       "    <tr>\n",
       "      <th>2</th>\n",
       "      <td>10002</td>\n",
       "      <td>837.0</td>\n",
       "      <td>1849.0</td>\n",
       "      <td>45.27</td>\n",
       "      <td>33726.0</td>\n",
       "      <td>35691.0</td>\n",
       "      <td>80736.0</td>\n",
       "      <td>40.8</td>\n",
       "      <td>0.295605</td>\n",
       "      <td>0.086108</td>\n",
       "      <td>...</td>\n",
       "      <td>0.000000</td>\n",
       "      <td>0.000000</td>\n",
       "      <td>0.000000</td>\n",
       "      <td>0.000000</td>\n",
       "      <td>0.000000</td>\n",
       "      <td>0.333333</td>\n",
       "      <td>0.000000</td>\n",
       "      <td>0.000000</td>\n",
       "      <td>0.000000</td>\n",
       "      <td>0.0</td>\n",
       "    </tr>\n",
       "    <tr>\n",
       "      <th>3</th>\n",
       "      <td>10003</td>\n",
       "      <td>387.0</td>\n",
       "      <td>1114.0</td>\n",
       "      <td>34.74</td>\n",
       "      <td>98151.0</td>\n",
       "      <td>31575.0</td>\n",
       "      <td>57112.0</td>\n",
       "      <td>32.1</td>\n",
       "      <td>0.776352</td>\n",
       "      <td>0.043599</td>\n",
       "      <td>...</td>\n",
       "      <td>0.050100</td>\n",
       "      <td>0.008016</td>\n",
       "      <td>0.022044</td>\n",
       "      <td>0.040080</td>\n",
       "      <td>0.088176</td>\n",
       "      <td>0.126253</td>\n",
       "      <td>0.036072</td>\n",
       "      <td>0.026052</td>\n",
       "      <td>0.052104</td>\n",
       "      <td>501.0</td>\n",
       "    </tr>\n",
       "    <tr>\n",
       "      <th>4</th>\n",
       "      <td>10004</td>\n",
       "      <td>26.0</td>\n",
       "      <td>79.0</td>\n",
       "      <td>32.91</td>\n",
       "      <td>119691.0</td>\n",
       "      <td>2082.0</td>\n",
       "      <td>3221.0</td>\n",
       "      <td>33.1</td>\n",
       "      <td>0.705992</td>\n",
       "      <td>0.007141</td>\n",
       "      <td>...</td>\n",
       "      <td>0.000000</td>\n",
       "      <td>0.000000</td>\n",
       "      <td>0.000000</td>\n",
       "      <td>0.000000</td>\n",
       "      <td>0.312500</td>\n",
       "      <td>0.000000</td>\n",
       "      <td>0.000000</td>\n",
       "      <td>0.000000</td>\n",
       "      <td>0.000000</td>\n",
       "      <td>0.0</td>\n",
       "    </tr>\n",
       "    <tr>\n",
       "      <th>5</th>\n",
       "      <td>10005</td>\n",
       "      <td>52.0</td>\n",
       "      <td>190.0</td>\n",
       "      <td>27.37</td>\n",
       "      <td>124194.0</td>\n",
       "      <td>5254.0</td>\n",
       "      <td>8131.0</td>\n",
       "      <td>29.4</td>\n",
       "      <td>0.753413</td>\n",
       "      <td>0.029517</td>\n",
       "      <td>...</td>\n",
       "      <td>0.050412</td>\n",
       "      <td>0.004583</td>\n",
       "      <td>0.018332</td>\n",
       "      <td>0.032997</td>\n",
       "      <td>0.035747</td>\n",
       "      <td>0.156737</td>\n",
       "      <td>0.096242</td>\n",
       "      <td>0.039413</td>\n",
       "      <td>0.048579</td>\n",
       "      <td>0.0</td>\n",
       "    </tr>\n",
       "  </tbody>\n",
       "</table>\n",
       "<p>5 rows × 87 columns</p>\n",
       "</div>"
      ],
      "text/plain": [
       "  MODZCTA  Positive   Total  zcta_cum.perc_pos  median_house_income  \\\n",
       "1   10001     303.0   805.0              37.64              86801.0   \n",
       "2   10002     837.0  1849.0              45.27              33726.0   \n",
       "3   10003     387.0  1114.0              34.74              98151.0   \n",
       "4   10004      26.0    79.0              32.91             119691.0   \n",
       "5   10005      52.0   190.0              27.37             124194.0   \n",
       "\n",
       "   housing_units  pop_total  med_age  pop_perc_white  pop_perc_black  ...  \\\n",
       "1        13305.0    23537.0     35.6        0.602456        0.121893  ...   \n",
       "2        35691.0    80736.0     40.8        0.295605        0.086108  ...   \n",
       "3        31575.0    57112.0     32.1        0.776352        0.043599  ...   \n",
       "4         2082.0     3221.0     33.1        0.705992        0.007141  ...   \n",
       "5         5254.0     8131.0     29.4        0.753413        0.029517  ...   \n",
       "\n",
       "   perc_transportation_warehousing  perc_utilites  perc_information  \\\n",
       "1                         0.060729       0.005398          0.018893   \n",
       "2                         0.000000       0.000000          0.000000   \n",
       "3                         0.050100       0.008016          0.022044   \n",
       "4                         0.000000       0.000000          0.000000   \n",
       "5                         0.050412       0.004583          0.018332   \n",
       "\n",
       "   perc_finance  perc_scientific  perc_education_healthcare  \\\n",
       "1      0.020243         0.037787                   0.191633   \n",
       "2      0.000000         0.000000                   0.333333   \n",
       "3      0.040080         0.088176                   0.126253   \n",
       "4      0.000000         0.312500                   0.000000   \n",
       "5      0.032997         0.035747                   0.156737   \n",
       "\n",
       "   perc_arts_entertainment  perc_otherservices  perc_publicadministration  \\\n",
       "1                 0.017544            0.018893                   0.045884   \n",
       "2                 0.000000            0.000000                   0.000000   \n",
       "3                 0.036072            0.026052                   0.052104   \n",
       "4                 0.000000            0.000000                   0.000000   \n",
       "5                 0.096242            0.039413                   0.048579   \n",
       "\n",
       "    beds  \n",
       "1    0.0  \n",
       "2    0.0  \n",
       "3  501.0  \n",
       "4    0.0  \n",
       "5    0.0  \n",
       "\n",
       "[5 rows x 87 columns]"
      ]
     },
     "execution_count": 97,
     "metadata": {},
     "output_type": "execute_result"
    }
   ],
   "source": [
    "data.head()"
   ]
  },
  {
   "cell_type": "markdown",
   "metadata": {},
   "source": [
    "### Handle Null Values"
   ]
  },
  {
   "cell_type": "code",
   "execution_count": 98,
   "metadata": {},
   "outputs": [
    {
     "data": {
      "text/plain": [
       "med_monthlyhousingcost               3\n",
       "med_numberrooms                      6\n",
       "med_yearbuilt                        7\n",
       "perc_hadbaby_pastyear_married        7\n",
       "perc_hadbaby_pastyear_unmarried      7\n",
       "med_value                           26\n",
       "avg_hoursworked                     33\n",
       "med_contractrent                    58\n",
       "avg_income_deficit_pastyear        129\n",
       "med_age_marriage                   177\n",
       "dtype: int64"
      ]
     },
     "execution_count": 98,
     "metadata": {},
     "output_type": "execute_result"
    }
   ],
   "source": [
    "#Null values\n",
    "data.isnull().sum(axis = 0).sort_values().tail(10)"
   ]
  },
  {
   "cell_type": "code",
   "execution_count": 99,
   "metadata": {},
   "outputs": [
    {
     "data": {
      "text/html": [
       "<div>\n",
       "<style scoped>\n",
       "    .dataframe tbody tr th:only-of-type {\n",
       "        vertical-align: middle;\n",
       "    }\n",
       "\n",
       "    .dataframe tbody tr th {\n",
       "        vertical-align: top;\n",
       "    }\n",
       "\n",
       "    .dataframe thead th {\n",
       "        text-align: right;\n",
       "    }\n",
       "</style>\n",
       "<table border=\"1\" class=\"dataframe\">\n",
       "  <thead>\n",
       "    <tr style=\"text-align: right;\">\n",
       "      <th></th>\n",
       "      <th>MODZCTA</th>\n",
       "      <th>Positive</th>\n",
       "      <th>Total</th>\n",
       "      <th>zcta_cum.perc_pos</th>\n",
       "      <th>median_house_income</th>\n",
       "      <th>housing_units</th>\n",
       "      <th>pop_total</th>\n",
       "      <th>med_age</th>\n",
       "      <th>pop_perc_white</th>\n",
       "      <th>pop_perc_black</th>\n",
       "      <th>...</th>\n",
       "      <th>perc_transportation_warehousing</th>\n",
       "      <th>perc_utilites</th>\n",
       "      <th>perc_information</th>\n",
       "      <th>perc_finance</th>\n",
       "      <th>perc_scientific</th>\n",
       "      <th>perc_education_healthcare</th>\n",
       "      <th>perc_arts_entertainment</th>\n",
       "      <th>perc_otherservices</th>\n",
       "      <th>perc_publicadministration</th>\n",
       "      <th>beds</th>\n",
       "    </tr>\n",
       "  </thead>\n",
       "  <tbody>\n",
       "    <tr>\n",
       "      <th>2</th>\n",
       "      <td>10002</td>\n",
       "      <td>837.0</td>\n",
       "      <td>1849.0</td>\n",
       "      <td>45.27</td>\n",
       "      <td>33726.0</td>\n",
       "      <td>35691.0</td>\n",
       "      <td>80736.0</td>\n",
       "      <td>40.8</td>\n",
       "      <td>0.295605</td>\n",
       "      <td>0.086108</td>\n",
       "      <td>...</td>\n",
       "      <td>0.0</td>\n",
       "      <td>0.0</td>\n",
       "      <td>0.0</td>\n",
       "      <td>0.0</td>\n",
       "      <td>0.0</td>\n",
       "      <td>0.333333</td>\n",
       "      <td>0.0</td>\n",
       "      <td>0.0</td>\n",
       "      <td>0.0</td>\n",
       "      <td>0.0</td>\n",
       "    </tr>\n",
       "    <tr>\n",
       "      <th>147</th>\n",
       "      <td>11377</td>\n",
       "      <td>1757.0</td>\n",
       "      <td>3328.0</td>\n",
       "      <td>52.79</td>\n",
       "      <td>50436.0</td>\n",
       "      <td>33840.0</td>\n",
       "      <td>90615.0</td>\n",
       "      <td>36.7</td>\n",
       "      <td>0.478971</td>\n",
       "      <td>0.026673</td>\n",
       "      <td>...</td>\n",
       "      <td>NaN</td>\n",
       "      <td>NaN</td>\n",
       "      <td>NaN</td>\n",
       "      <td>NaN</td>\n",
       "      <td>NaN</td>\n",
       "      <td>NaN</td>\n",
       "      <td>NaN</td>\n",
       "      <td>NaN</td>\n",
       "      <td>NaN</td>\n",
       "      <td>0.0</td>\n",
       "    </tr>\n",
       "    <tr>\n",
       "      <th>166</th>\n",
       "      <td>11428</td>\n",
       "      <td>576.0</td>\n",
       "      <td>1049.0</td>\n",
       "      <td>54.91</td>\n",
       "      <td>67151.0</td>\n",
       "      <td>5929.0</td>\n",
       "      <td>19744.0</td>\n",
       "      <td>40.2</td>\n",
       "      <td>0.222194</td>\n",
       "      <td>0.184410</td>\n",
       "      <td>...</td>\n",
       "      <td>NaN</td>\n",
       "      <td>NaN</td>\n",
       "      <td>NaN</td>\n",
       "      <td>NaN</td>\n",
       "      <td>NaN</td>\n",
       "      <td>NaN</td>\n",
       "      <td>NaN</td>\n",
       "      <td>NaN</td>\n",
       "      <td>NaN</td>\n",
       "      <td>0.0</td>\n",
       "    </tr>\n",
       "  </tbody>\n",
       "</table>\n",
       "<p>3 rows × 87 columns</p>\n",
       "</div>"
      ],
      "text/plain": [
       "    MODZCTA  Positive   Total  zcta_cum.perc_pos  median_house_income  \\\n",
       "2     10002     837.0  1849.0              45.27              33726.0   \n",
       "147   11377    1757.0  3328.0              52.79              50436.0   \n",
       "166   11428     576.0  1049.0              54.91              67151.0   \n",
       "\n",
       "     housing_units  pop_total  med_age  pop_perc_white  pop_perc_black  ...  \\\n",
       "2          35691.0    80736.0     40.8        0.295605        0.086108  ...   \n",
       "147        33840.0    90615.0     36.7        0.478971        0.026673  ...   \n",
       "166         5929.0    19744.0     40.2        0.222194        0.184410  ...   \n",
       "\n",
       "     perc_transportation_warehousing  perc_utilites  perc_information  \\\n",
       "2                                0.0            0.0               0.0   \n",
       "147                              NaN            NaN               NaN   \n",
       "166                              NaN            NaN               NaN   \n",
       "\n",
       "     perc_finance  perc_scientific  perc_education_healthcare  \\\n",
       "2             0.0              0.0                   0.333333   \n",
       "147           NaN              NaN                        NaN   \n",
       "166           NaN              NaN                        NaN   \n",
       "\n",
       "     perc_arts_entertainment  perc_otherservices  perc_publicadministration  \\\n",
       "2                        0.0                 0.0                        0.0   \n",
       "147                      NaN                 NaN                        NaN   \n",
       "166                      NaN                 NaN                        NaN   \n",
       "\n",
       "     beds  \n",
       "2     0.0  \n",
       "147   0.0  \n",
       "166   0.0  \n",
       "\n",
       "[3 rows x 87 columns]"
      ]
     },
     "execution_count": 99,
     "metadata": {},
     "output_type": "execute_result"
    }
   ],
   "source": [
    "data[data.med_monthlyhousingcost.isnull()]"
   ]
  },
  {
   "cell_type": "markdown",
   "metadata": {},
   "source": [
    "None of the columns with very common nulls seem too critical. We will exclude the columns with more than 10 nulls and for those with less than 10 nulls we will impute the value using the average."
   ]
  },
  {
   "cell_type": "code",
   "execution_count": 100,
   "metadata": {},
   "outputs": [],
   "source": [
    "#Exclude columns with > 10 nulls\n",
    "data = data.drop(['med_value','avg_hoursworked','med_contractrent',\n",
    "                  'avg_income_deficit_pastyear','med_age_marriage'], axis = 1)"
   ]
  },
  {
   "cell_type": "code",
   "execution_count": 101,
   "metadata": {},
   "outputs": [],
   "source": [
    "#Impute values for columsn with < 10 nulls\n",
    "#data[\"beds\"] = data[\"beds\"].fillna(0)\n",
    "for col in data.columns:\n",
    "    data[col] = data[col].fillna(data[col].mean())\n",
    "    \n"
   ]
  },
  {
   "cell_type": "code",
   "execution_count": 102,
   "metadata": {},
   "outputs": [
    {
     "data": {
      "text/plain": [
       "perc_transport_to_work_workathome    0\n",
       "perc_transport_to_work_taxi          0\n",
       "perc_transport_to_work_walk          0\n",
       "perc_transport_to_work_public        0\n",
       "beds                                 0\n",
       "dtype: int64"
      ]
     },
     "execution_count": 102,
     "metadata": {},
     "output_type": "execute_result"
    }
   ],
   "source": [
    "#Check we've removed them all:\n",
    "data.isnull().sum(axis = 0).sort_values().tail() #0. good."
   ]
  },
  {
   "cell_type": "code",
   "execution_count": 103,
   "metadata": {},
   "outputs": [],
   "source": [
    "cols = [col for col in data.columns if 'perc' in col]\n",
    "\n",
    "for col in cols:\n",
    "    data.loc[data[col] > 1, col] = 1\n",
    "    \n",
    "X = data.loc[:,\"median_house_income\":]\n",
    "\n",
    "#Set the scaler\n",
    "X = preprocessing.StandardScaler().fit_transform(X)"
   ]
  },
  {
   "cell_type": "markdown",
   "metadata": {},
   "source": [
    "### Franklin's work starts below"
   ]
  },
  {
   "cell_type": "code",
   "execution_count": 104,
   "metadata": {},
   "outputs": [],
   "source": [
    "from sklearn import preprocessing\n",
    "import numpy as np"
   ]
  },
  {
   "cell_type": "code",
   "execution_count": 105,
   "metadata": {},
   "outputs": [],
   "source": [
    "#Remove the first record (no zip)\n",
    "data = data[1:]\n",
    "\n",
    "#Remove the zip code columns\n",
    "data = data.loc[:, data.columns != 'zip_code_tabulation_area']\n",
    "data = data.loc[:, data.columns != 'zip']"
   ]
  },
  {
   "cell_type": "markdown",
   "metadata": {},
   "source": [
    "### step 1. unnecessarily split into testing and training"
   ]
  },
  {
   "cell_type": "code",
   "execution_count": 107,
   "metadata": {},
   "outputs": [],
   "source": [
    "train_data = data[:140]\n",
    "train_y = train_data['Positive'] / train_data['pop_total'] * 10000\n",
    "train_data = train_data.drop(['Positive', 'Total', 'zcta_cum.perc_pos'], axis=1)\n",
    "\n",
    "test_data = data[140:]\n",
    "test_y = test_data['Positive'] / test_data['pop_total'] * 10000\n",
    "test_data = test_data.drop(['Positive', 'Total', 'zcta_cum.perc_pos'], axis=1)\n",
    "\n",
    "scale_data = data\n",
    "scale_data = scale_data.drop(['Positive', 'Total', 'zcta_cum.perc_pos'], axis=1)"
   ]
  },
  {
   "cell_type": "code",
   "execution_count": 108,
   "metadata": {},
   "outputs": [],
   "source": [
    "#Set the scaler\n",
    "scaler = preprocessing.StandardScaler().fit(scale_data)\n",
    "#Scale train/test data\n",
    "train_data = scaler.transform(train_data)\n",
    "test_data = scaler.transform(test_data)"
   ]
  },
  {
   "cell_type": "code",
   "execution_count": 109,
   "metadata": {},
   "outputs": [],
   "source": [
    "from sklearn import linear_model\n",
    "import itertools\n",
    "\n",
    "eps = 0.0001\n",
    "alphas_lasso, coefs_lasso, _ = linear_model.enet_path(\n",
    "    train_data, train_y,n_alphas=10000, eps=eps, l1_ratio=1., fit_intercept=False)"
   ]
  },
  {
   "cell_type": "code",
   "execution_count": 110,
   "metadata": {},
   "outputs": [],
   "source": [
    "data_columns = data.drop(['Positive', 'Total', 'zcta_cum.perc_pos'], axis=1).columns"
   ]
  },
  {
   "cell_type": "code",
   "execution_count": 111,
   "metadata": {},
   "outputs": [
    {
     "name": "stderr",
     "output_type": "stream",
     "text": [
      "/usr/local/lib/python3.7/site-packages/IPython/core/pylabtools.py:128: UserWarning: Creating legend with loc=\"best\" can be slow with large amounts of data.\n",
      "  fig.canvas.print_figure(bytes_io, **kw)\n"
     ]
    },
    {
     "data": {
      "image/png": "[encoded data removed]",
      "text/plain": [
       "<Figure size 432x288 with 1 Axes>"
      ]
     },
     "metadata": {
      "needs_background": "light"
     },
     "output_type": "display_data"
    }
   ],
   "source": [
    "# Plot the regularization paths:\n",
    "# Display results\n",
    "\n",
    "# make legend small ==\n",
    "from matplotlib.font_manager import FontProperties\n",
    "fontP = FontProperties()\n",
    "fontP.set_size('small')\n",
    "# make legend small ==\n",
    "\n",
    "plt.figure(1)\n",
    "colors = itertools.cycle(['b', 'r', 'g', 'c', 'k'])\n",
    "neg_log_alphas_lasso = np.log10(alphas_lasso)\n",
    "i = 0\n",
    "for coef_l, c in zip(coefs_lasso, colors):\n",
    "    l1 = plt.plot(neg_log_alphas_lasso, coef_l, c=np.random.rand(3,), label=data_columns[i])\n",
    "    i += 1\n",
    "\n",
    "plt.xlabel('-Log(alpha)')\n",
    "plt.ylabel('coefficients')\n",
    "plt.title('Lasso Paths')\n",
    "plt.axis('tight')\n",
    "plt.legend(prop=fontP)\n",
    "plt.show()"
   ]
  },
  {
   "cell_type": "markdown",
   "metadata": {},
   "source": [
    "### step 2. gridsearch to find optimal alpha"
   ]
  },
  {
   "cell_type": "code",
   "execution_count": 112,
   "metadata": {},
   "outputs": [
    {
     "name": "stderr",
     "output_type": "stream",
     "text": [
      "/usr/local/lib/python3.7/site-packages/sklearn/linear_model/_coordinate_descent.py:476: ConvergenceWarning: Objective did not converge. You might want to increase the number of iterations. Duality gap: 1493.209372340105, tolerance: 52.50999430561836\n",
      "  positive)\n",
      "/usr/local/lib/python3.7/site-packages/sklearn/linear_model/_coordinate_descent.py:476: ConvergenceWarning: Objective did not converge. You might want to increase the number of iterations. Duality gap: 2879.4439025220636, tolerance: 57.188803896455845\n",
      "  positive)\n",
      "/usr/local/lib/python3.7/site-packages/sklearn/linear_model/_coordinate_descent.py:476: ConvergenceWarning: Objective did not converge. You might want to increase the number of iterations. Duality gap: 2050.778502608362, tolerance: 46.71309164545459\n",
      "  positive)\n",
      "/usr/local/lib/python3.7/site-packages/sklearn/linear_model/_coordinate_descent.py:476: ConvergenceWarning: Objective did not converge. You might want to increase the number of iterations. Duality gap: 380.251387328346, tolerance: 66.43045373480581\n",
      "  positive)\n",
      "/usr/local/lib/python3.7/site-packages/sklearn/linear_model/_coordinate_descent.py:476: ConvergenceWarning: Objective did not converge. You might want to increase the number of iterations. Duality gap: 300.6265948462169, tolerance: 61.53210507294262\n",
      "  positive)\n",
      "/usr/local/lib/python3.7/site-packages/sklearn/linear_model/_coordinate_descent.py:476: ConvergenceWarning: Objective did not converge. You might want to increase the number of iterations. Duality gap: 106.15394801981893, tolerance: 52.50999430561836\n",
      "  positive)\n",
      "/usr/local/lib/python3.7/site-packages/sklearn/linear_model/_coordinate_descent.py:476: ConvergenceWarning: Objective did not converge. You might want to increase the number of iterations. Duality gap: 501.3104631645692, tolerance: 57.188803896455845\n",
      "  positive)\n",
      "/usr/local/lib/python3.7/site-packages/sklearn/linear_model/_coordinate_descent.py:476: ConvergenceWarning: Objective did not converge. You might want to increase the number of iterations. Duality gap: 1507.8656258554765, tolerance: 46.71309164545459\n",
      "  positive)\n",
      "/usr/local/lib/python3.7/site-packages/sklearn/linear_model/_coordinate_descent.py:476: ConvergenceWarning: Objective did not converge. You might want to increase the number of iterations. Duality gap: 81.31440424522589, tolerance: 66.43045373480581\n",
      "  positive)\n",
      "/usr/local/lib/python3.7/site-packages/sklearn/linear_model/_coordinate_descent.py:476: ConvergenceWarning: Objective did not converge. You might want to increase the number of iterations. Duality gap: 366.5674115012298, tolerance: 61.53210507294262\n",
      "  positive)\n",
      "/usr/local/lib/python3.7/site-packages/sklearn/linear_model/_coordinate_descent.py:476: ConvergenceWarning: Objective did not converge. You might want to increase the number of iterations. Duality gap: 173.97796328751429, tolerance: 57.188803896455845\n",
      "  positive)\n",
      "/usr/local/lib/python3.7/site-packages/sklearn/linear_model/_coordinate_descent.py:476: ConvergenceWarning: Objective did not converge. You might want to increase the number of iterations. Duality gap: 679.7675795314863, tolerance: 46.71309164545459\n",
      "  positive)\n",
      "/usr/local/lib/python3.7/site-packages/sklearn/linear_model/_coordinate_descent.py:476: ConvergenceWarning: Objective did not converge. You might want to increase the number of iterations. Duality gap: 96.85609866375307, tolerance: 66.43045373480581\n",
      "  positive)\n",
      "/usr/local/lib/python3.7/site-packages/sklearn/linear_model/_coordinate_descent.py:476: ConvergenceWarning: Objective did not converge. You might want to increase the number of iterations. Duality gap: 216.73681669815414, tolerance: 61.53210507294262\n",
      "  positive)\n",
      "/usr/local/lib/python3.7/site-packages/sklearn/linear_model/_coordinate_descent.py:476: ConvergenceWarning: Objective did not converge. You might want to increase the number of iterations. Duality gap: 59.872687102193595, tolerance: 52.50999430561836\n",
      "  positive)\n",
      "/usr/local/lib/python3.7/site-packages/sklearn/linear_model/_coordinate_descent.py:476: ConvergenceWarning: Objective did not converge. You might want to increase the number of iterations. Duality gap: 428.6147401865601, tolerance: 46.71309164545459\n",
      "  positive)\n",
      "/usr/local/lib/python3.7/site-packages/sklearn/linear_model/_coordinate_descent.py:476: ConvergenceWarning: Objective did not converge. You might want to increase the number of iterations. Duality gap: 68.4028263321452, tolerance: 66.43045373480581\n",
      "  positive)\n",
      "/usr/local/lib/python3.7/site-packages/sklearn/linear_model/_coordinate_descent.py:476: ConvergenceWarning: Objective did not converge. You might want to increase the number of iterations. Duality gap: 71.85083909331297, tolerance: 61.53210507294262\n",
      "  positive)\n",
      "/usr/local/lib/python3.7/site-packages/sklearn/linear_model/_coordinate_descent.py:476: ConvergenceWarning: Objective did not converge. You might want to increase the number of iterations. Duality gap: 118.23410787552712, tolerance: 52.50999430561836\n",
      "  positive)\n",
      "/usr/local/lib/python3.7/site-packages/sklearn/linear_model/_coordinate_descent.py:476: ConvergenceWarning: Objective did not converge. You might want to increase the number of iterations. Duality gap: 250.3429776695266, tolerance: 46.71309164545459\n",
      "  positive)\n",
      "/usr/local/lib/python3.7/site-packages/sklearn/linear_model/_coordinate_descent.py:476: ConvergenceWarning: Objective did not converge. You might want to increase the number of iterations. Duality gap: 145.9568477915309, tolerance: 52.50999430561836\n",
      "  positive)\n",
      "/usr/local/lib/python3.7/site-packages/sklearn/linear_model/_coordinate_descent.py:476: ConvergenceWarning: Objective did not converge. You might want to increase the number of iterations. Duality gap: 316.59868501862366, tolerance: 46.71309164545459\n",
      "  positive)\n",
      "/usr/local/lib/python3.7/site-packages/sklearn/linear_model/_coordinate_descent.py:476: ConvergenceWarning: Objective did not converge. You might want to increase the number of iterations. Duality gap: 169.99504029276432, tolerance: 52.50999430561836\n",
      "  positive)\n",
      "/usr/local/lib/python3.7/site-packages/sklearn/linear_model/_coordinate_descent.py:476: ConvergenceWarning: Objective did not converge. You might want to increase the number of iterations. Duality gap: 197.48090614260582, tolerance: 52.50999430561836\n",
      "  positive)\n"
     ]
    },
    {
     "data": {
      "text/plain": [
       "GridSearchCV(cv=5, error_score=nan,\n",
       "             estimator=Lasso(alpha=1.0, copy_X=True, fit_intercept=True,\n",
       "                             max_iter=1000, normalize=False, positive=False,\n",
       "                             precompute=False, random_state=0,\n",
       "                             selection='cyclic', tol=0.0001, warm_start=False),\n",
       "             iid='deprecated', n_jobs=None,\n",
       "             param_grid=[{'alpha': array([3.16227766e-02, 4.52035366e-02, 6.46167079e-02, 9.23670857e-02,\n",
       "       1.32035178e-01, 1....\n",
       "       2.30180731e+00, 3.29034456e+00, 4.70342034e+00, 6.72335754e+00,\n",
       "       9.61077966e+00, 1.37382380e+01, 1.96382800e+01, 2.80721620e+01,\n",
       "       4.01280703e+01, 5.73615251e+01, 8.19960824e+01, 1.17210230e+02,\n",
       "       1.67547492e+02, 2.39502662e+02, 3.42359796e+02, 4.89390092e+02,\n",
       "       6.99564216e+02, 1.00000000e+03])}],\n",
       "             pre_dispatch='2*n_jobs', refit=False, return_train_score=False,\n",
       "             scoring=None, verbose=0)"
      ]
     },
     "execution_count": 112,
     "metadata": {},
     "output_type": "execute_result"
    }
   ],
   "source": [
    "from sklearn.model_selection import GridSearchCV\n",
    "from sklearn.linear_model import Ridge\n",
    "from sklearn.linear_model import Lasso\n",
    "\n",
    "lasso = Lasso(random_state=0, max_iter=1000)\n",
    "alphas = np.logspace(-1.5, 3, 30)\n",
    "\n",
    "tuned_parameters = [{'alpha': alphas}]\n",
    "n_folds = 5\n",
    "\n",
    "clf = GridSearchCV(lasso, tuned_parameters, cv=n_folds, refit=False)\n",
    "clf.fit(train_data, train_y)"
   ]
  },
  {
   "cell_type": "code",
   "execution_count": 114,
   "metadata": {},
   "outputs": [
    {
     "name": "stdout",
     "output_type": "stream",
     "text": [
      "best regularization param: 4.703420341698635\n"
     ]
    }
   ],
   "source": [
    "print('best regularization param:', clf.best_params_['alpha'])\n",
    "alpha = clf.best_params_['alpha']"
   ]
  },
  {
   "cell_type": "markdown",
   "metadata": {},
   "source": [
    "### step 3. train lasso"
   ]
  },
  {
   "cell_type": "code",
   "execution_count": 118,
   "metadata": {},
   "outputs": [
    {
     "data": {
      "text/plain": [
       "ElasticNet(alpha=4.703420341698635, copy_X=True, fit_intercept=True, l1_ratio=1,\n",
       "           max_iter=1000, normalize=False, positive=False, precompute=False,\n",
       "           random_state=None, selection='cyclic', tol=0.0001, warm_start=False)"
      ]
     },
     "execution_count": 118,
     "metadata": {},
     "output_type": "execute_result"
    }
   ],
   "source": [
    "from sklearn.linear_model import ElasticNet\n",
    "lasso_model = ElasticNet(alpha=alpha, l1_ratio=1)\n",
    "lasso_model.fit(train_data, train_y)"
   ]
  },
  {
   "cell_type": "markdown",
   "metadata": {},
   "source": [
    "### step 4. pull out nonzero columns"
   ]
  },
  {
   "cell_type": "code",
   "execution_count": 123,
   "metadata": {},
   "outputs": [
    {
     "name": "stdout",
     "output_type": "stream",
     "text": [
      "pop_perc_indian_alaskan,\n",
      "pop_perc_asian,\n",
      "pop_perc_hs,\n",
      "pop_perc_some_college,\n",
      "pop_perc_bachelor,\n",
      "perc_transport_to_work_car,\n",
      "perc_transport_to_work_public,\n",
      "perc_transport_to_work_bike,\n",
      "perc_transport_to_work_workathome,\n",
      "perc_leave_for_work_6to629,\n",
      "perc_leave_for_work_7to729,\n",
      "perc_leave_for_work_730to759,\n",
      "perc_leave_for_work_10to1059,\n",
      "perc_leave_for_work_12pto359,\n",
      "perc_divorced,\n",
      "weighted_avg_income_to_poverty_ratio,\n",
      "perc_socialsecurity_income,\n",
      "perc_SSI,\n",
      "med_monthlyhousingcost,\n"
     ]
    }
   ],
   "source": [
    "for col, val in zip(data_columns, lasso_model.coef_.tolist()):\n",
    "    if val != 0:\n",
    "        print(col, end=\",\\n\")"
   ]
  },
  {
   "cell_type": "code",
   "execution_count": 120,
   "metadata": {},
   "outputs": [
    {
     "data": {
      "text/plain": [
       "array([-0.        , -0.        , -0.        , -0.        ,  0.        ,\n",
       "       -0.        ,  0.        ,  0.35875553, -3.00235866,  0.        ,\n",
       "        0.        ,  7.15578223,  2.6054261 , -4.60908726, -0.        ,\n",
       "       -0.        ,  0.79256394, -4.18312286, -4.28275704, -0.        ,\n",
       "       -0.        , -8.91881684,  0.        ,  0.        ,  0.        ,\n",
       "        0.        , 12.57205158,  0.        ,  6.68072292, -0.99903487,\n",
       "       -0.        , -0.        , -0.        , -0.77207648, -0.        ,\n",
       "       11.91300991,  0.        ,  0.        ,  0.        , -0.        ,\n",
       "        0.        , -0.        ,  0.        , -0.        ,  5.32855753,\n",
       "       -0.        , -0.        , -0.4395194 ,  0.        ,  0.        ,\n",
       "       -0.        , -0.        ,  2.11948939,  2.14521906, -0.        ,\n",
       "        0.        , -0.        , -0.        , -0.        ,  0.        ,\n",
       "        0.        ,  0.        , -5.53413926, -0.        ,  0.        ,\n",
       "       -0.        , -0.        ,  0.        , -0.        ,  0.        ,\n",
       "        0.        ,  0.        , -0.        ,  0.        ,  0.        ,\n",
       "        0.        , -0.        ,  0.        ,  0.        ])"
      ]
     },
     "execution_count": 120,
     "metadata": {},
     "output_type": "execute_result"
    }
   ],
   "source": [
    "lasso_model.coef_"
   ]
  },
  {
   "cell_type": "code",
   "execution_count": null,
   "metadata": {},
   "outputs": [],
   "source": []
  }
 ],
 "metadata": {
  "kernelspec": {
   "display_name": "Python 3",
   "language": "python",
   "name": "python3"
  },
  "language_info": {
   "codemirror_mode": {
    "name": "ipython",
    "version": 3
   },
   "file_extension": ".py",
   "mimetype": "text/x-python",
   "name": "python",
   "nbconvert_exporter": "python",
   "pygments_lexer": "ipython3",
   "version": "3.7.7"
  }
 },
 "nbformat": 4,
 "nbformat_minor": 2
}
